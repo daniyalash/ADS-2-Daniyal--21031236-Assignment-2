{
  "nbformat": 4,
  "nbformat_minor": 0,
  "metadata": {
    "colab": {
      "name": "Climate Change",
      "provenance": [],
      "collapsed_sections": []
    },
    "kernelspec": {
      "name": "python3",
      "display_name": "Python 3"
    },
    "language_info": {
      "name": "python"
    },
    "accelerator": "GPU"
  },
  "cells": [
    {
      "cell_type": "markdown",
      "source": [
        "# **Importing Libaries**"
      ],
      "metadata": {
        "id": "zo3peW7jGFf_"
      }
    },
    {
      "cell_type": "code",
      "execution_count": 1,
      "metadata": {
        "id": "epXhjb-NvfH3",
        "colab": {
          "base_uri": "https://localhost:8080/",
          "height": 16
        },
        "outputId": "f6d3cd6f-cf72-483e-aec4-6fb518e27522"
      },
      "outputs": [
        {
          "output_type": "display_data",
          "data": {
            "text/html": [
              "        <script type=\"text/javascript\">\n",
              "        window.PlotlyConfig = {MathJaxConfig: 'local'};\n",
              "        if (window.MathJax) {MathJax.Hub.Config({SVG: {font: \"STIX-Web\"}});}\n",
              "        if (typeof require !== 'undefined') {\n",
              "        require.undef(\"plotly\");\n",
              "        requirejs.config({\n",
              "            paths: {\n",
              "                'plotly': ['https://cdn.plot.ly/plotly-2.8.3.min']\n",
              "            }\n",
              "        });\n",
              "        require(['plotly'], function(Plotly) {\n",
              "            window._Plotly = Plotly;\n",
              "        });\n",
              "        }\n",
              "        </script>\n",
              "        "
            ]
          },
          "metadata": {}
        }
      ],
      "source": [
        "import pandas as pd\n",
        "import time\n",
        "import numpy as np\n",
        "import matplotlib.pyplot as plt\n",
        "import seaborn as sns\n",
        "import datetime, warnings, scipy \n",
        "warnings.filterwarnings('ignore')\n",
        "\n",
        "# Plotting Tools\n",
        "import plotly.express as px\n",
        "import plotly.graph_objects as go\n",
        "from plotly.subplots import make_subplots\n",
        "\n",
        "import plotly.offline as py\n",
        "import plotly.figure_factory as ff\n",
        "py.init_notebook_mode(connected=True)\n",
        "import plotly.graph_objs as go\n",
        "from plotly import tools\n",
        "from plotly.subplots import make_subplots"
      ]
    },
    {
      "cell_type": "markdown",
      "source": [
        "# **Dataset**"
      ],
      "metadata": {
        "id": "BWW8VExjGZD-"
      }
    },
    {
      "cell_type": "code",
      "source": [
        "df = pd.read_csv(\"climate_dataset.csv\")\n",
        "dfs = pd.read_csv(\"climate_dataset.csv\")\n",
        "df.head()"
      ],
      "metadata": {
        "colab": {
          "base_uri": "https://localhost:8080/",
          "height": 206
        },
        "id": "s4rte-SMy2wg",
        "outputId": "69dab229-d912-4fc5-b340-e24c6d788b62"
      },
      "execution_count": 2,
      "outputs": [
        {
          "output_type": "execute_result",
          "data": {
            "text/plain": [
              "   Unnamed: 0 Country                Energy_type  Year  Energy_consumption  \\\n",
              "0           0   World           all_energy_types  1980          292.899790   \n",
              "1           1   World                       coal  1980           78.656134   \n",
              "2           2   World                natural_gas  1980           53.865223   \n",
              "3           3   World  petroleum_n_other_liquids  1980          132.064019   \n",
              "4           4   World                    nuclear  1980            7.575700   \n",
              "\n",
              "   Energy_production           GDP    Population  Energy_intensity_per_capita  \\\n",
              "0         296.337228  27770.910281  4.298127e+06                    68.145921   \n",
              "1          80.114194  27770.910281  4.298127e+06                    68.145921   \n",
              "2          54.761046  27770.910281  4.298127e+06                    68.145921   \n",
              "3         133.111109  27770.910281  4.298127e+06                    68.145921   \n",
              "4           7.575700  27770.910281  4.298127e+06                    68.145921   \n",
              "\n",
              "   Energy_intensity_by_GDP  CO2_emission  \n",
              "0                   10.547   4946.627130  \n",
              "1                   10.547   1409.790188  \n",
              "2                   10.547   1081.593377  \n",
              "3                   10.547   2455.243565  \n",
              "4                   10.547      0.000000  "
            ],
            "text/html": [
              "\n",
              "  <div id=\"df-538bd3ac-6c34-4661-a319-569130a840c3\">\n",
              "    <div class=\"colab-df-container\">\n",
              "      <div>\n",
              "<style scoped>\n",
              "    .dataframe tbody tr th:only-of-type {\n",
              "        vertical-align: middle;\n",
              "    }\n",
              "\n",
              "    .dataframe tbody tr th {\n",
              "        vertical-align: top;\n",
              "    }\n",
              "\n",
              "    .dataframe thead th {\n",
              "        text-align: right;\n",
              "    }\n",
              "</style>\n",
              "<table border=\"1\" class=\"dataframe\">\n",
              "  <thead>\n",
              "    <tr style=\"text-align: right;\">\n",
              "      <th></th>\n",
              "      <th>Unnamed: 0</th>\n",
              "      <th>Country</th>\n",
              "      <th>Energy_type</th>\n",
              "      <th>Year</th>\n",
              "      <th>Energy_consumption</th>\n",
              "      <th>Energy_production</th>\n",
              "      <th>GDP</th>\n",
              "      <th>Population</th>\n",
              "      <th>Energy_intensity_per_capita</th>\n",
              "      <th>Energy_intensity_by_GDP</th>\n",
              "      <th>CO2_emission</th>\n",
              "    </tr>\n",
              "  </thead>\n",
              "  <tbody>\n",
              "    <tr>\n",
              "      <th>0</th>\n",
              "      <td>0</td>\n",
              "      <td>World</td>\n",
              "      <td>all_energy_types</td>\n",
              "      <td>1980</td>\n",
              "      <td>292.899790</td>\n",
              "      <td>296.337228</td>\n",
              "      <td>27770.910281</td>\n",
              "      <td>4.298127e+06</td>\n",
              "      <td>68.145921</td>\n",
              "      <td>10.547</td>\n",
              "      <td>4946.627130</td>\n",
              "    </tr>\n",
              "    <tr>\n",
              "      <th>1</th>\n",
              "      <td>1</td>\n",
              "      <td>World</td>\n",
              "      <td>coal</td>\n",
              "      <td>1980</td>\n",
              "      <td>78.656134</td>\n",
              "      <td>80.114194</td>\n",
              "      <td>27770.910281</td>\n",
              "      <td>4.298127e+06</td>\n",
              "      <td>68.145921</td>\n",
              "      <td>10.547</td>\n",
              "      <td>1409.790188</td>\n",
              "    </tr>\n",
              "    <tr>\n",
              "      <th>2</th>\n",
              "      <td>2</td>\n",
              "      <td>World</td>\n",
              "      <td>natural_gas</td>\n",
              "      <td>1980</td>\n",
              "      <td>53.865223</td>\n",
              "      <td>54.761046</td>\n",
              "      <td>27770.910281</td>\n",
              "      <td>4.298127e+06</td>\n",
              "      <td>68.145921</td>\n",
              "      <td>10.547</td>\n",
              "      <td>1081.593377</td>\n",
              "    </tr>\n",
              "    <tr>\n",
              "      <th>3</th>\n",
              "      <td>3</td>\n",
              "      <td>World</td>\n",
              "      <td>petroleum_n_other_liquids</td>\n",
              "      <td>1980</td>\n",
              "      <td>132.064019</td>\n",
              "      <td>133.111109</td>\n",
              "      <td>27770.910281</td>\n",
              "      <td>4.298127e+06</td>\n",
              "      <td>68.145921</td>\n",
              "      <td>10.547</td>\n",
              "      <td>2455.243565</td>\n",
              "    </tr>\n",
              "    <tr>\n",
              "      <th>4</th>\n",
              "      <td>4</td>\n",
              "      <td>World</td>\n",
              "      <td>nuclear</td>\n",
              "      <td>1980</td>\n",
              "      <td>7.575700</td>\n",
              "      <td>7.575700</td>\n",
              "      <td>27770.910281</td>\n",
              "      <td>4.298127e+06</td>\n",
              "      <td>68.145921</td>\n",
              "      <td>10.547</td>\n",
              "      <td>0.000000</td>\n",
              "    </tr>\n",
              "  </tbody>\n",
              "</table>\n",
              "</div>\n",
              "      <button class=\"colab-df-convert\" onclick=\"convertToInteractive('df-538bd3ac-6c34-4661-a319-569130a840c3')\"\n",
              "              title=\"Convert this dataframe to an interactive table.\"\n",
              "              style=\"display:none;\">\n",
              "        \n",
              "  <svg xmlns=\"http://www.w3.org/2000/svg\" height=\"24px\"viewBox=\"0 0 24 24\"\n",
              "       width=\"24px\">\n",
              "    <path d=\"M0 0h24v24H0V0z\" fill=\"none\"/>\n",
              "    <path d=\"M18.56 5.44l.94 2.06.94-2.06 2.06-.94-2.06-.94-.94-2.06-.94 2.06-2.06.94zm-11 1L8.5 8.5l.94-2.06 2.06-.94-2.06-.94L8.5 2.5l-.94 2.06-2.06.94zm10 10l.94 2.06.94-2.06 2.06-.94-2.06-.94-.94-2.06-.94 2.06-2.06.94z\"/><path d=\"M17.41 7.96l-1.37-1.37c-.4-.4-.92-.59-1.43-.59-.52 0-1.04.2-1.43.59L10.3 9.45l-7.72 7.72c-.78.78-.78 2.05 0 2.83L4 21.41c.39.39.9.59 1.41.59.51 0 1.02-.2 1.41-.59l7.78-7.78 2.81-2.81c.8-.78.8-2.07 0-2.86zM5.41 20L4 18.59l7.72-7.72 1.47 1.35L5.41 20z\"/>\n",
              "  </svg>\n",
              "      </button>\n",
              "      \n",
              "  <style>\n",
              "    .colab-df-container {\n",
              "      display:flex;\n",
              "      flex-wrap:wrap;\n",
              "      gap: 12px;\n",
              "    }\n",
              "\n",
              "    .colab-df-convert {\n",
              "      background-color: #E8F0FE;\n",
              "      border: none;\n",
              "      border-radius: 50%;\n",
              "      cursor: pointer;\n",
              "      display: none;\n",
              "      fill: #1967D2;\n",
              "      height: 32px;\n",
              "      padding: 0 0 0 0;\n",
              "      width: 32px;\n",
              "    }\n",
              "\n",
              "    .colab-df-convert:hover {\n",
              "      background-color: #E2EBFA;\n",
              "      box-shadow: 0px 1px 2px rgba(60, 64, 67, 0.3), 0px 1px 3px 1px rgba(60, 64, 67, 0.15);\n",
              "      fill: #174EA6;\n",
              "    }\n",
              "\n",
              "    [theme=dark] .colab-df-convert {\n",
              "      background-color: #3B4455;\n",
              "      fill: #D2E3FC;\n",
              "    }\n",
              "\n",
              "    [theme=dark] .colab-df-convert:hover {\n",
              "      background-color: #434B5C;\n",
              "      box-shadow: 0px 1px 3px 1px rgba(0, 0, 0, 0.15);\n",
              "      filter: drop-shadow(0px 1px 2px rgba(0, 0, 0, 0.3));\n",
              "      fill: #FFFFFF;\n",
              "    }\n",
              "  </style>\n",
              "\n",
              "      <script>\n",
              "        const buttonEl =\n",
              "          document.querySelector('#df-538bd3ac-6c34-4661-a319-569130a840c3 button.colab-df-convert');\n",
              "        buttonEl.style.display =\n",
              "          google.colab.kernel.accessAllowed ? 'block' : 'none';\n",
              "\n",
              "        async function convertToInteractive(key) {\n",
              "          const element = document.querySelector('#df-538bd3ac-6c34-4661-a319-569130a840c3');\n",
              "          const dataTable =\n",
              "            await google.colab.kernel.invokeFunction('convertToInteractive',\n",
              "                                                     [key], {});\n",
              "          if (!dataTable) return;\n",
              "\n",
              "          const docLinkHtml = 'Like what you see? Visit the ' +\n",
              "            '<a target=\"_blank\" href=https://colab.research.google.com/notebooks/data_table.ipynb>data table notebook</a>'\n",
              "            + ' to learn more about interactive tables.';\n",
              "          element.innerHTML = '';\n",
              "          dataTable['output_type'] = 'display_data';\n",
              "          await google.colab.output.renderOutput(dataTable, element);\n",
              "          const docLink = document.createElement('div');\n",
              "          docLink.innerHTML = docLinkHtml;\n",
              "          element.appendChild(docLink);\n",
              "        }\n",
              "      </script>\n",
              "    </div>\n",
              "  </div>\n",
              "  "
            ]
          },
          "metadata": {},
          "execution_count": 2
        }
      ]
    },
    {
      "cell_type": "markdown",
      "source": [
        "# **Exploratory Data Analysis (EDA)**"
      ],
      "metadata": {
        "id": "LaWvEaN8oS71"
      }
    },
    {
      "cell_type": "markdown",
      "source": [
        "### **Feature analysis**"
      ],
      "metadata": {
        "id": "CCHH3aZ2IlgI"
      }
    },
    {
      "cell_type": "markdown",
      "source": [
        "### **checking columns of dataset**\n",
        "\n",
        "\n",
        "\n",
        "\n"
      ],
      "metadata": {
        "id": "U216hKzRIvG5"
      }
    },
    {
      "cell_type": "code",
      "source": [
        "df.columns"
      ],
      "metadata": {
        "id": "uy3nhj18o3Vv",
        "colab": {
          "base_uri": "https://localhost:8080/"
        },
        "outputId": "965bcf97-e87e-4cfe-d2e7-7a05187f70dd"
      },
      "execution_count": 3,
      "outputs": [
        {
          "output_type": "execute_result",
          "data": {
            "text/plain": [
              "Index(['Unnamed: 0', 'Country', 'Energy_type', 'Year', 'Energy_consumption',\n",
              "       'Energy_production', 'GDP', 'Population', 'Energy_intensity_per_capita',\n",
              "       'Energy_intensity_by_GDP', 'CO2_emission'],\n",
              "      dtype='object')"
            ]
          },
          "metadata": {},
          "execution_count": 3
        }
      ]
    },
    {
      "cell_type": "markdown",
      "source": [
        "### **checking data types of columns**\n"
      ],
      "metadata": {
        "id": "huDpE8EiKuNe"
      }
    },
    {
      "cell_type": "code",
      "source": [
        "df.dtypes"
      ],
      "metadata": {
        "id": "zXsWwPZno8t8",
        "colab": {
          "base_uri": "https://localhost:8080/"
        },
        "outputId": "bd0a982e-5af8-4c85-8940-6af5f3395481"
      },
      "execution_count": 4,
      "outputs": [
        {
          "output_type": "execute_result",
          "data": {
            "text/plain": [
              "Unnamed: 0                       int64\n",
              "Country                         object\n",
              "Energy_type                     object\n",
              "Year                             int64\n",
              "Energy_consumption             float64\n",
              "Energy_production              float64\n",
              "GDP                            float64\n",
              "Population                     float64\n",
              "Energy_intensity_per_capita    float64\n",
              "Energy_intensity_by_GDP        float64\n",
              "CO2_emission                   float64\n",
              "dtype: object"
            ]
          },
          "metadata": {},
          "execution_count": 4
        }
      ]
    },
    {
      "cell_type": "markdown",
      "source": [
        "### **checking null values of columns**"
      ],
      "metadata": {
        "id": "689kb9cLK0KJ"
      }
    },
    {
      "cell_type": "code",
      "source": [
        "df.isnull().sum()"
      ],
      "metadata": {
        "id": "1tTGiuUlofYk",
        "colab": {
          "base_uri": "https://localhost:8080/"
        },
        "outputId": "b89be477-67b6-4f3f-a31a-de6ecee261f0"
      },
      "execution_count": 5,
      "outputs": [
        {
          "output_type": "execute_result",
          "data": {
            "text/plain": [
              "Unnamed: 0                         0\n",
              "Country                            0\n",
              "Energy_type                        0\n",
              "Year                               0\n",
              "Energy_consumption             11153\n",
              "Energy_production              11151\n",
              "GDP                            15414\n",
              "Population                      9426\n",
              "Energy_intensity_per_capita     5082\n",
              "Energy_intensity_by_GDP         5082\n",
              "CO2_emission                    3826\n",
              "dtype: int64"
            ]
          },
          "metadata": {},
          "execution_count": 5
        }
      ]
    },
    {
      "cell_type": "markdown",
      "source": [
        "# **Droping Null values from specific columns**"
      ],
      "metadata": {
        "id": "Qj8Hz-f1uIo_"
      }
    },
    {
      "cell_type": "code",
      "source": [
        "df = df.drop(['Unnamed: 0'], axis = 1)"
      ],
      "metadata": {
        "id": "xQPWnII5H-P6"
      },
      "execution_count": 6,
      "outputs": []
    },
    {
      "cell_type": "code",
      "source": [
        "df = df.dropna(subset = ['GDP','Energy_intensity_by_GDP','CO2_emission'])"
      ],
      "metadata": {
        "id": "1x1ilg3g9yPj"
      },
      "execution_count": 7,
      "outputs": []
    },
    {
      "cell_type": "code",
      "source": [
        "df.isnull().sum()"
      ],
      "metadata": {
        "id": "m7z3-5ysUGgW",
        "colab": {
          "base_uri": "https://localhost:8080/"
        },
        "outputId": "f889bc70-4e1b-4080-895c-94819a0975e0"
      },
      "execution_count": 8,
      "outputs": [
        {
          "output_type": "execute_result",
          "data": {
            "text/plain": [
              "Country                           0\n",
              "Energy_type                       0\n",
              "Year                              0\n",
              "Energy_consumption             5372\n",
              "Energy_production              5372\n",
              "GDP                               0\n",
              "Population                        0\n",
              "Energy_intensity_per_capita       0\n",
              "Energy_intensity_by_GDP           0\n",
              "CO2_emission                      0\n",
              "dtype: int64"
            ]
          },
          "metadata": {},
          "execution_count": 8
        }
      ]
    },
    {
      "cell_type": "markdown",
      "source": [
        "\n",
        "\n",
        "### **sum of total values in Energy_type**\n"
      ],
      "metadata": {
        "id": "3MzqEQ9IK2EQ"
      }
    },
    {
      "cell_type": "code",
      "source": [
        "df.Energy_type.value_counts()"
      ],
      "metadata": {
        "id": "KbPjQvVPolWY",
        "colab": {
          "base_uri": "https://localhost:8080/"
        },
        "outputId": "d89df57c-883e-4c7d-b4d4-c654f03ea8d8"
      },
      "execution_count": 9,
      "outputs": [
        {
          "output_type": "execute_result",
          "data": {
            "text/plain": [
              "nuclear                      6503\n",
              "renewables_n_other           6503\n",
              "all_energy_types             6426\n",
              "coal                         6426\n",
              "natural_gas                  6410\n",
              "petroleum_n_other_liquids    6409\n",
              "Name: Energy_type, dtype: int64"
            ]
          },
          "metadata": {},
          "execution_count": 9
        }
      ]
    },
    {
      "cell_type": "markdown",
      "source": [
        "### **checking total rows and columns of dataset**"
      ],
      "metadata": {
        "id": "GJcgeK93K4L_"
      }
    },
    {
      "cell_type": "code",
      "source": [
        "df.shape"
      ],
      "metadata": {
        "id": "g2-WP495obcC",
        "colab": {
          "base_uri": "https://localhost:8080/"
        },
        "outputId": "bd15b8f1-5a10-474f-9a62-60651e100951"
      },
      "execution_count": 10,
      "outputs": [
        {
          "output_type": "execute_result",
          "data": {
            "text/plain": [
              "(38677, 10)"
            ]
          },
          "metadata": {},
          "execution_count": 10
        }
      ]
    },
    {
      "cell_type": "markdown",
      "source": [
        "### **checking information related to columns**"
      ],
      "metadata": {
        "id": "_g0DNbo4K6UF"
      }
    },
    {
      "cell_type": "code",
      "source": [
        "df.info()"
      ],
      "metadata": {
        "id": "p9nhX8gwoFFU",
        "colab": {
          "base_uri": "https://localhost:8080/"
        },
        "outputId": "3e311fbd-d7c3-4e14-de5d-684852d786ea"
      },
      "execution_count": 11,
      "outputs": [
        {
          "output_type": "stream",
          "name": "stdout",
          "text": [
            "<class 'pandas.core.frame.DataFrame'>\n",
            "Int64Index: 38677 entries, 0 to 55439\n",
            "Data columns (total 10 columns):\n",
            " #   Column                       Non-Null Count  Dtype  \n",
            "---  ------                       --------------  -----  \n",
            " 0   Country                      38677 non-null  object \n",
            " 1   Energy_type                  38677 non-null  object \n",
            " 2   Year                         38677 non-null  int64  \n",
            " 3   Energy_consumption           33305 non-null  float64\n",
            " 4   Energy_production            33305 non-null  float64\n",
            " 5   GDP                          38677 non-null  float64\n",
            " 6   Population                   38677 non-null  float64\n",
            " 7   Energy_intensity_per_capita  38677 non-null  float64\n",
            " 8   Energy_intensity_by_GDP      38677 non-null  float64\n",
            " 9   CO2_emission                 38677 non-null  float64\n",
            "dtypes: float64(7), int64(1), object(2)\n",
            "memory usage: 3.2+ MB\n"
          ]
        }
      ]
    },
    {
      "cell_type": "markdown",
      "source": [
        "### **describing columns**\n"
      ],
      "metadata": {
        "id": "nYQHytTQK_-p"
      }
    },
    {
      "cell_type": "code",
      "source": [
        "df.describe()"
      ],
      "metadata": {
        "id": "jKd-GeJqoXi2",
        "colab": {
          "base_uri": "https://localhost:8080/",
          "height": 300
        },
        "outputId": "6d0d704a-1462-47bd-ab4e-aa2abc13e5a4"
      },
      "execution_count": 12,
      "outputs": [
        {
          "output_type": "execute_result",
          "data": {
            "text/plain": [
              "               Year  Energy_consumption  Energy_production            GDP  \\\n",
              "count  38677.000000        33305.000000       3.330500e+04   38677.000000   \n",
              "mean    2002.799493            1.960963       1.940987e+00     853.120783   \n",
              "std       10.021928           17.753187       1.755388e+01    6083.208032   \n",
              "min     1980.000000           -0.163438      -1.000000e-39       0.124958   \n",
              "25%     1995.000000            0.001196       0.000000e+00      10.697000   \n",
              "50%     2003.000000            0.040328       4.748380e-03      51.885000   \n",
              "75%     2011.000000            0.353622       1.972639e-01     273.748800   \n",
              "max     2019.000000          601.040490       6.115090e+02  127690.247059   \n",
              "\n",
              "         Population  Energy_intensity_per_capita  Energy_intensity_by_GDP  \\\n",
              "count  3.867700e+04                 38677.000000             38677.000000   \n",
              "mean   7.292383e+04                    84.876638                 4.729739   \n",
              "std    4.967378e+05                   118.432175                 4.367893   \n",
              "min    1.615500e+01                     0.000000                 0.000000   \n",
              "25%    1.951640e+03                     9.966806                 2.378265   \n",
              "50%    7.389058e+03                    42.479219                 3.762596   \n",
              "75%    2.333000e+04                   111.422898                 5.754108   \n",
              "max    7.714631e+06                  1139.320598               166.913605   \n",
              "\n",
              "       CO2_emission  \n",
              "count  38677.000000  \n",
              "mean     101.059404  \n",
              "std     1038.208999  \n",
              "min       -0.005130  \n",
              "25%        0.000000  \n",
              "50%        0.075282  \n",
              "75%        8.721402  \n",
              "max    35584.933498  "
            ],
            "text/html": [
              "\n",
              "  <div id=\"df-c1d3996d-b945-4775-af2d-66b414be6689\">\n",
              "    <div class=\"colab-df-container\">\n",
              "      <div>\n",
              "<style scoped>\n",
              "    .dataframe tbody tr th:only-of-type {\n",
              "        vertical-align: middle;\n",
              "    }\n",
              "\n",
              "    .dataframe tbody tr th {\n",
              "        vertical-align: top;\n",
              "    }\n",
              "\n",
              "    .dataframe thead th {\n",
              "        text-align: right;\n",
              "    }\n",
              "</style>\n",
              "<table border=\"1\" class=\"dataframe\">\n",
              "  <thead>\n",
              "    <tr style=\"text-align: right;\">\n",
              "      <th></th>\n",
              "      <th>Year</th>\n",
              "      <th>Energy_consumption</th>\n",
              "      <th>Energy_production</th>\n",
              "      <th>GDP</th>\n",
              "      <th>Population</th>\n",
              "      <th>Energy_intensity_per_capita</th>\n",
              "      <th>Energy_intensity_by_GDP</th>\n",
              "      <th>CO2_emission</th>\n",
              "    </tr>\n",
              "  </thead>\n",
              "  <tbody>\n",
              "    <tr>\n",
              "      <th>count</th>\n",
              "      <td>38677.000000</td>\n",
              "      <td>33305.000000</td>\n",
              "      <td>3.330500e+04</td>\n",
              "      <td>38677.000000</td>\n",
              "      <td>3.867700e+04</td>\n",
              "      <td>38677.000000</td>\n",
              "      <td>38677.000000</td>\n",
              "      <td>38677.000000</td>\n",
              "    </tr>\n",
              "    <tr>\n",
              "      <th>mean</th>\n",
              "      <td>2002.799493</td>\n",
              "      <td>1.960963</td>\n",
              "      <td>1.940987e+00</td>\n",
              "      <td>853.120783</td>\n",
              "      <td>7.292383e+04</td>\n",
              "      <td>84.876638</td>\n",
              "      <td>4.729739</td>\n",
              "      <td>101.059404</td>\n",
              "    </tr>\n",
              "    <tr>\n",
              "      <th>std</th>\n",
              "      <td>10.021928</td>\n",
              "      <td>17.753187</td>\n",
              "      <td>1.755388e+01</td>\n",
              "      <td>6083.208032</td>\n",
              "      <td>4.967378e+05</td>\n",
              "      <td>118.432175</td>\n",
              "      <td>4.367893</td>\n",
              "      <td>1038.208999</td>\n",
              "    </tr>\n",
              "    <tr>\n",
              "      <th>min</th>\n",
              "      <td>1980.000000</td>\n",
              "      <td>-0.163438</td>\n",
              "      <td>-1.000000e-39</td>\n",
              "      <td>0.124958</td>\n",
              "      <td>1.615500e+01</td>\n",
              "      <td>0.000000</td>\n",
              "      <td>0.000000</td>\n",
              "      <td>-0.005130</td>\n",
              "    </tr>\n",
              "    <tr>\n",
              "      <th>25%</th>\n",
              "      <td>1995.000000</td>\n",
              "      <td>0.001196</td>\n",
              "      <td>0.000000e+00</td>\n",
              "      <td>10.697000</td>\n",
              "      <td>1.951640e+03</td>\n",
              "      <td>9.966806</td>\n",
              "      <td>2.378265</td>\n",
              "      <td>0.000000</td>\n",
              "    </tr>\n",
              "    <tr>\n",
              "      <th>50%</th>\n",
              "      <td>2003.000000</td>\n",
              "      <td>0.040328</td>\n",
              "      <td>4.748380e-03</td>\n",
              "      <td>51.885000</td>\n",
              "      <td>7.389058e+03</td>\n",
              "      <td>42.479219</td>\n",
              "      <td>3.762596</td>\n",
              "      <td>0.075282</td>\n",
              "    </tr>\n",
              "    <tr>\n",
              "      <th>75%</th>\n",
              "      <td>2011.000000</td>\n",
              "      <td>0.353622</td>\n",
              "      <td>1.972639e-01</td>\n",
              "      <td>273.748800</td>\n",
              "      <td>2.333000e+04</td>\n",
              "      <td>111.422898</td>\n",
              "      <td>5.754108</td>\n",
              "      <td>8.721402</td>\n",
              "    </tr>\n",
              "    <tr>\n",
              "      <th>max</th>\n",
              "      <td>2019.000000</td>\n",
              "      <td>601.040490</td>\n",
              "      <td>6.115090e+02</td>\n",
              "      <td>127690.247059</td>\n",
              "      <td>7.714631e+06</td>\n",
              "      <td>1139.320598</td>\n",
              "      <td>166.913605</td>\n",
              "      <td>35584.933498</td>\n",
              "    </tr>\n",
              "  </tbody>\n",
              "</table>\n",
              "</div>\n",
              "      <button class=\"colab-df-convert\" onclick=\"convertToInteractive('df-c1d3996d-b945-4775-af2d-66b414be6689')\"\n",
              "              title=\"Convert this dataframe to an interactive table.\"\n",
              "              style=\"display:none;\">\n",
              "        \n",
              "  <svg xmlns=\"http://www.w3.org/2000/svg\" height=\"24px\"viewBox=\"0 0 24 24\"\n",
              "       width=\"24px\">\n",
              "    <path d=\"M0 0h24v24H0V0z\" fill=\"none\"/>\n",
              "    <path d=\"M18.56 5.44l.94 2.06.94-2.06 2.06-.94-2.06-.94-.94-2.06-.94 2.06-2.06.94zm-11 1L8.5 8.5l.94-2.06 2.06-.94-2.06-.94L8.5 2.5l-.94 2.06-2.06.94zm10 10l.94 2.06.94-2.06 2.06-.94-2.06-.94-.94-2.06-.94 2.06-2.06.94z\"/><path d=\"M17.41 7.96l-1.37-1.37c-.4-.4-.92-.59-1.43-.59-.52 0-1.04.2-1.43.59L10.3 9.45l-7.72 7.72c-.78.78-.78 2.05 0 2.83L4 21.41c.39.39.9.59 1.41.59.51 0 1.02-.2 1.41-.59l7.78-7.78 2.81-2.81c.8-.78.8-2.07 0-2.86zM5.41 20L4 18.59l7.72-7.72 1.47 1.35L5.41 20z\"/>\n",
              "  </svg>\n",
              "      </button>\n",
              "      \n",
              "  <style>\n",
              "    .colab-df-container {\n",
              "      display:flex;\n",
              "      flex-wrap:wrap;\n",
              "      gap: 12px;\n",
              "    }\n",
              "\n",
              "    .colab-df-convert {\n",
              "      background-color: #E8F0FE;\n",
              "      border: none;\n",
              "      border-radius: 50%;\n",
              "      cursor: pointer;\n",
              "      display: none;\n",
              "      fill: #1967D2;\n",
              "      height: 32px;\n",
              "      padding: 0 0 0 0;\n",
              "      width: 32px;\n",
              "    }\n",
              "\n",
              "    .colab-df-convert:hover {\n",
              "      background-color: #E2EBFA;\n",
              "      box-shadow: 0px 1px 2px rgba(60, 64, 67, 0.3), 0px 1px 3px 1px rgba(60, 64, 67, 0.15);\n",
              "      fill: #174EA6;\n",
              "    }\n",
              "\n",
              "    [theme=dark] .colab-df-convert {\n",
              "      background-color: #3B4455;\n",
              "      fill: #D2E3FC;\n",
              "    }\n",
              "\n",
              "    [theme=dark] .colab-df-convert:hover {\n",
              "      background-color: #434B5C;\n",
              "      box-shadow: 0px 1px 3px 1px rgba(0, 0, 0, 0.15);\n",
              "      filter: drop-shadow(0px 1px 2px rgba(0, 0, 0, 0.3));\n",
              "      fill: #FFFFFF;\n",
              "    }\n",
              "  </style>\n",
              "\n",
              "      <script>\n",
              "        const buttonEl =\n",
              "          document.querySelector('#df-c1d3996d-b945-4775-af2d-66b414be6689 button.colab-df-convert');\n",
              "        buttonEl.style.display =\n",
              "          google.colab.kernel.accessAllowed ? 'block' : 'none';\n",
              "\n",
              "        async function convertToInteractive(key) {\n",
              "          const element = document.querySelector('#df-c1d3996d-b945-4775-af2d-66b414be6689');\n",
              "          const dataTable =\n",
              "            await google.colab.kernel.invokeFunction('convertToInteractive',\n",
              "                                                     [key], {});\n",
              "          if (!dataTable) return;\n",
              "\n",
              "          const docLinkHtml = 'Like what you see? Visit the ' +\n",
              "            '<a target=\"_blank\" href=https://colab.research.google.com/notebooks/data_table.ipynb>data table notebook</a>'\n",
              "            + ' to learn more about interactive tables.';\n",
              "          element.innerHTML = '';\n",
              "          dataTable['output_type'] = 'display_data';\n",
              "          await google.colab.output.renderOutput(dataTable, element);\n",
              "          const docLink = document.createElement('div');\n",
              "          docLink.innerHTML = docLinkHtml;\n",
              "          element.appendChild(docLink);\n",
              "        }\n",
              "      </script>\n",
              "    </div>\n",
              "  </div>\n",
              "  "
            ]
          },
          "metadata": {},
          "execution_count": 12
        }
      ]
    },
    {
      "cell_type": "markdown",
      "source": [
        "### **checking correlation of columns**"
      ],
      "metadata": {
        "id": "7H6Ti8obLMVD"
      }
    },
    {
      "cell_type": "code",
      "source": [
        "df.corr()"
      ],
      "metadata": {
        "id": "1-Nf0Zz8opNX",
        "colab": {
          "base_uri": "https://localhost:8080/",
          "height": 300
        },
        "outputId": "aab8ebfc-5dfe-4a68-8676-61e6b8039d7a"
      },
      "execution_count": 13,
      "outputs": [
        {
          "output_type": "execute_result",
          "data": {
            "text/plain": [
              "                                 Year  Energy_consumption  Energy_production  \\\n",
              "Year                         1.000000            0.000618           0.001473   \n",
              "Energy_consumption           0.000618            1.000000           0.993731   \n",
              "Energy_production            0.001473            0.993731           1.000000   \n",
              "GDP                          0.024898            0.705055           0.700910   \n",
              "Population                  -0.012521            0.696232           0.696547   \n",
              "Energy_intensity_per_capita  0.015079            0.034615           0.039944   \n",
              "Energy_intensity_by_GDP     -0.108202            0.051365           0.055874   \n",
              "CO2_emission                 0.001006            0.982769           0.975663   \n",
              "\n",
              "                                  GDP  Population  \\\n",
              "Year                         0.024898   -0.012521   \n",
              "Energy_consumption           0.705055    0.696232   \n",
              "Energy_production            0.700910    0.696547   \n",
              "GDP                          1.000000    0.945598   \n",
              "Population                   0.945598    1.000000   \n",
              "Energy_intensity_per_capita  0.036993   -0.018996   \n",
              "Energy_intensity_by_GDP      0.039028    0.055904   \n",
              "CO2_emission                 0.673877    0.667240   \n",
              "\n",
              "                             Energy_intensity_per_capita  \\\n",
              "Year                                            0.015079   \n",
              "Energy_consumption                              0.034615   \n",
              "Energy_production                               0.039944   \n",
              "GDP                                             0.036993   \n",
              "Population                                     -0.018996   \n",
              "Energy_intensity_per_capita                     1.000000   \n",
              "Energy_intensity_by_GDP                         0.344200   \n",
              "CO2_emission                                    0.028711   \n",
              "\n",
              "                             Energy_intensity_by_GDP  CO2_emission  \n",
              "Year                                       -0.108202      0.001006  \n",
              "Energy_consumption                          0.051365      0.982769  \n",
              "Energy_production                           0.055874      0.975663  \n",
              "GDP                                         0.039028      0.673877  \n",
              "Population                                  0.055904      0.667240  \n",
              "Energy_intensity_per_capita                 0.344200      0.028711  \n",
              "Energy_intensity_by_GDP                     1.000000      0.047406  \n",
              "CO2_emission                                0.047406      1.000000  "
            ],
            "text/html": [
              "\n",
              "  <div id=\"df-0d80a0a2-a5f5-4163-8609-7718f2da3034\">\n",
              "    <div class=\"colab-df-container\">\n",
              "      <div>\n",
              "<style scoped>\n",
              "    .dataframe tbody tr th:only-of-type {\n",
              "        vertical-align: middle;\n",
              "    }\n",
              "\n",
              "    .dataframe tbody tr th {\n",
              "        vertical-align: top;\n",
              "    }\n",
              "\n",
              "    .dataframe thead th {\n",
              "        text-align: right;\n",
              "    }\n",
              "</style>\n",
              "<table border=\"1\" class=\"dataframe\">\n",
              "  <thead>\n",
              "    <tr style=\"text-align: right;\">\n",
              "      <th></th>\n",
              "      <th>Year</th>\n",
              "      <th>Energy_consumption</th>\n",
              "      <th>Energy_production</th>\n",
              "      <th>GDP</th>\n",
              "      <th>Population</th>\n",
              "      <th>Energy_intensity_per_capita</th>\n",
              "      <th>Energy_intensity_by_GDP</th>\n",
              "      <th>CO2_emission</th>\n",
              "    </tr>\n",
              "  </thead>\n",
              "  <tbody>\n",
              "    <tr>\n",
              "      <th>Year</th>\n",
              "      <td>1.000000</td>\n",
              "      <td>0.000618</td>\n",
              "      <td>0.001473</td>\n",
              "      <td>0.024898</td>\n",
              "      <td>-0.012521</td>\n",
              "      <td>0.015079</td>\n",
              "      <td>-0.108202</td>\n",
              "      <td>0.001006</td>\n",
              "    </tr>\n",
              "    <tr>\n",
              "      <th>Energy_consumption</th>\n",
              "      <td>0.000618</td>\n",
              "      <td>1.000000</td>\n",
              "      <td>0.993731</td>\n",
              "      <td>0.705055</td>\n",
              "      <td>0.696232</td>\n",
              "      <td>0.034615</td>\n",
              "      <td>0.051365</td>\n",
              "      <td>0.982769</td>\n",
              "    </tr>\n",
              "    <tr>\n",
              "      <th>Energy_production</th>\n",
              "      <td>0.001473</td>\n",
              "      <td>0.993731</td>\n",
              "      <td>1.000000</td>\n",
              "      <td>0.700910</td>\n",
              "      <td>0.696547</td>\n",
              "      <td>0.039944</td>\n",
              "      <td>0.055874</td>\n",
              "      <td>0.975663</td>\n",
              "    </tr>\n",
              "    <tr>\n",
              "      <th>GDP</th>\n",
              "      <td>0.024898</td>\n",
              "      <td>0.705055</td>\n",
              "      <td>0.700910</td>\n",
              "      <td>1.000000</td>\n",
              "      <td>0.945598</td>\n",
              "      <td>0.036993</td>\n",
              "      <td>0.039028</td>\n",
              "      <td>0.673877</td>\n",
              "    </tr>\n",
              "    <tr>\n",
              "      <th>Population</th>\n",
              "      <td>-0.012521</td>\n",
              "      <td>0.696232</td>\n",
              "      <td>0.696547</td>\n",
              "      <td>0.945598</td>\n",
              "      <td>1.000000</td>\n",
              "      <td>-0.018996</td>\n",
              "      <td>0.055904</td>\n",
              "      <td>0.667240</td>\n",
              "    </tr>\n",
              "    <tr>\n",
              "      <th>Energy_intensity_per_capita</th>\n",
              "      <td>0.015079</td>\n",
              "      <td>0.034615</td>\n",
              "      <td>0.039944</td>\n",
              "      <td>0.036993</td>\n",
              "      <td>-0.018996</td>\n",
              "      <td>1.000000</td>\n",
              "      <td>0.344200</td>\n",
              "      <td>0.028711</td>\n",
              "    </tr>\n",
              "    <tr>\n",
              "      <th>Energy_intensity_by_GDP</th>\n",
              "      <td>-0.108202</td>\n",
              "      <td>0.051365</td>\n",
              "      <td>0.055874</td>\n",
              "      <td>0.039028</td>\n",
              "      <td>0.055904</td>\n",
              "      <td>0.344200</td>\n",
              "      <td>1.000000</td>\n",
              "      <td>0.047406</td>\n",
              "    </tr>\n",
              "    <tr>\n",
              "      <th>CO2_emission</th>\n",
              "      <td>0.001006</td>\n",
              "      <td>0.982769</td>\n",
              "      <td>0.975663</td>\n",
              "      <td>0.673877</td>\n",
              "      <td>0.667240</td>\n",
              "      <td>0.028711</td>\n",
              "      <td>0.047406</td>\n",
              "      <td>1.000000</td>\n",
              "    </tr>\n",
              "  </tbody>\n",
              "</table>\n",
              "</div>\n",
              "      <button class=\"colab-df-convert\" onclick=\"convertToInteractive('df-0d80a0a2-a5f5-4163-8609-7718f2da3034')\"\n",
              "              title=\"Convert this dataframe to an interactive table.\"\n",
              "              style=\"display:none;\">\n",
              "        \n",
              "  <svg xmlns=\"http://www.w3.org/2000/svg\" height=\"24px\"viewBox=\"0 0 24 24\"\n",
              "       width=\"24px\">\n",
              "    <path d=\"M0 0h24v24H0V0z\" fill=\"none\"/>\n",
              "    <path d=\"M18.56 5.44l.94 2.06.94-2.06 2.06-.94-2.06-.94-.94-2.06-.94 2.06-2.06.94zm-11 1L8.5 8.5l.94-2.06 2.06-.94-2.06-.94L8.5 2.5l-.94 2.06-2.06.94zm10 10l.94 2.06.94-2.06 2.06-.94-2.06-.94-.94-2.06-.94 2.06-2.06.94z\"/><path d=\"M17.41 7.96l-1.37-1.37c-.4-.4-.92-.59-1.43-.59-.52 0-1.04.2-1.43.59L10.3 9.45l-7.72 7.72c-.78.78-.78 2.05 0 2.83L4 21.41c.39.39.9.59 1.41.59.51 0 1.02-.2 1.41-.59l7.78-7.78 2.81-2.81c.8-.78.8-2.07 0-2.86zM5.41 20L4 18.59l7.72-7.72 1.47 1.35L5.41 20z\"/>\n",
              "  </svg>\n",
              "      </button>\n",
              "      \n",
              "  <style>\n",
              "    .colab-df-container {\n",
              "      display:flex;\n",
              "      flex-wrap:wrap;\n",
              "      gap: 12px;\n",
              "    }\n",
              "\n",
              "    .colab-df-convert {\n",
              "      background-color: #E8F0FE;\n",
              "      border: none;\n",
              "      border-radius: 50%;\n",
              "      cursor: pointer;\n",
              "      display: none;\n",
              "      fill: #1967D2;\n",
              "      height: 32px;\n",
              "      padding: 0 0 0 0;\n",
              "      width: 32px;\n",
              "    }\n",
              "\n",
              "    .colab-df-convert:hover {\n",
              "      background-color: #E2EBFA;\n",
              "      box-shadow: 0px 1px 2px rgba(60, 64, 67, 0.3), 0px 1px 3px 1px rgba(60, 64, 67, 0.15);\n",
              "      fill: #174EA6;\n",
              "    }\n",
              "\n",
              "    [theme=dark] .colab-df-convert {\n",
              "      background-color: #3B4455;\n",
              "      fill: #D2E3FC;\n",
              "    }\n",
              "\n",
              "    [theme=dark] .colab-df-convert:hover {\n",
              "      background-color: #434B5C;\n",
              "      box-shadow: 0px 1px 3px 1px rgba(0, 0, 0, 0.15);\n",
              "      filter: drop-shadow(0px 1px 2px rgba(0, 0, 0, 0.3));\n",
              "      fill: #FFFFFF;\n",
              "    }\n",
              "  </style>\n",
              "\n",
              "      <script>\n",
              "        const buttonEl =\n",
              "          document.querySelector('#df-0d80a0a2-a5f5-4163-8609-7718f2da3034 button.colab-df-convert');\n",
              "        buttonEl.style.display =\n",
              "          google.colab.kernel.accessAllowed ? 'block' : 'none';\n",
              "\n",
              "        async function convertToInteractive(key) {\n",
              "          const element = document.querySelector('#df-0d80a0a2-a5f5-4163-8609-7718f2da3034');\n",
              "          const dataTable =\n",
              "            await google.colab.kernel.invokeFunction('convertToInteractive',\n",
              "                                                     [key], {});\n",
              "          if (!dataTable) return;\n",
              "\n",
              "          const docLinkHtml = 'Like what you see? Visit the ' +\n",
              "            '<a target=\"_blank\" href=https://colab.research.google.com/notebooks/data_table.ipynb>data table notebook</a>'\n",
              "            + ' to learn more about interactive tables.';\n",
              "          element.innerHTML = '';\n",
              "          dataTable['output_type'] = 'display_data';\n",
              "          await google.colab.output.renderOutput(dataTable, element);\n",
              "          const docLink = document.createElement('div');\n",
              "          docLink.innerHTML = docLinkHtml;\n",
              "          element.appendChild(docLink);\n",
              "        }\n",
              "      </script>\n",
              "    </div>\n",
              "  </div>\n",
              "  "
            ]
          },
          "metadata": {},
          "execution_count": 13
        }
      ]
    },
    {
      "cell_type": "markdown",
      "source": [
        "# **Data Visualiztion**"
      ],
      "metadata": {
        "id": "hwLEMAmophx_"
      }
    },
    {
      "cell_type": "markdown",
      "source": [
        "# **Type of Energy used in past  1980's to 2020 years**"
      ],
      "metadata": {
        "id": "DVKjs1SOujYE"
      }
    },
    {
      "cell_type": "code",
      "source": [
        "Energy_type=df.Energy_type.value_counts().sort_values(ascending=False)[:10]\n",
        "print(Energy_type)"
      ],
      "metadata": {
        "id": "F5ywW6qnLvu8",
        "colab": {
          "base_uri": "https://localhost:8080/"
        },
        "outputId": "ab81a55d-1c03-4a85-d2e0-aaac44824838"
      },
      "execution_count": 14,
      "outputs": [
        {
          "output_type": "stream",
          "name": "stdout",
          "text": [
            "nuclear                      6503\n",
            "renewables_n_other           6503\n",
            "all_energy_types             6426\n",
            "coal                         6426\n",
            "natural_gas                  6410\n",
            "petroleum_n_other_liquids    6409\n",
            "Name: Energy_type, dtype: int64\n"
          ]
        }
      ]
    },
    {
      "cell_type": "markdown",
      "source": [
        "# **Histogram to better visualize**"
      ],
      "metadata": {
        "id": "yf8pc6MeuqSy"
      }
    },
    {
      "cell_type": "code",
      "source": [
        "Energy_type=df['Energy_type'].value_counts().sort_values(ascending=False)\n",
        "# prepare plot\n",
        "fig, ax = plt.subplots(figsize=(12,5))\n",
        "ax.bar(Energy_type.index, Energy_type.values, color='green')\n",
        "ax.set_title('Energy types', fontsize=13, fontweight='bold')\n",
        "ax.set(ylabel='\\nTotal Counts')"
      ],
      "metadata": {
        "id": "A7lm8y6Tua2k",
        "colab": {
          "base_uri": "https://localhost:8080/",
          "height": 355
        },
        "outputId": "62af058d-e07a-4737-e730-7ebec024926e"
      },
      "execution_count": 15,
      "outputs": [
        {
          "output_type": "execute_result",
          "data": {
            "text/plain": [
              "[Text(0, 0.5, '\\nTotal Counts')]"
            ]
          },
          "metadata": {},
          "execution_count": 15
        },
        {
          "output_type": "display_data",
          "data": {
            "text/plain": [
              "<Figure size 864x360 with 1 Axes>"
            ],
            "image/png": "[encoded data removed]"
          },
          "metadata": {
            "needs_background": "light"
          }
        }
      ]
    },
    {
      "cell_type": "code",
      "source": [
        "plt.figure(figsize=(10,8))\n",
        "sns.heatmap(data=df.iloc[:,3:].corr(), annot=True,\n",
        "                 linewidths=0.5,\n",
        "                 fmt=\".2f\",\n",
        "                 cmap=\"RdBu_r\")\n",
        "plt.show()"
      ],
      "metadata": {
        "colab": {
          "base_uri": "https://localhost:8080/",
          "height": 617
        },
        "id": "c1C7N_XwIw7Q",
        "outputId": "c6526004-c143-4bc8-9834-846659e17645"
      },
      "execution_count": 16,
      "outputs": [
        {
          "output_type": "display_data",
          "data": {
            "text/plain": [
              "<Figure size 720x576 with 2 Axes>"
            ],
            "image/png": "[encoded data removed]"
          },
          "metadata": {
            "needs_background": "light"
          }
        }
      ]
    },
    {
      "cell_type": "code",
      "source": [
        "axis = plt.subplots(figsize=(10,14))\n",
        "Name = df[\"Energy_type\"].unique()\n",
        "size = df[\"Energy_type\"].value_counts()\n",
        "plt.pie(size,labels=Name,autopct='%5.0f%%')\n",
        "plt.show()"
      ],
      "metadata": {
        "colab": {
          "base_uri": "https://localhost:8080/",
          "height": 588
        },
        "id": "HgmWOeIRIw4n",
        "outputId": "90cac50b-5e43-4082-b130-48723552a31d"
      },
      "execution_count": 17,
      "outputs": [
        {
          "output_type": "display_data",
          "data": {
            "text/plain": [
              "<Figure size 720x1008 with 1 Axes>"
            ],
            "image/png": "[encoded data removed]"
          },
          "metadata": {}
        }
      ]
    },
    {
      "cell_type": "markdown",
      "source": [
        "# **Most CO2 emission caused by renewables and coal,natural gas and petroleum liquids.**"
      ],
      "metadata": {
        "id": "HMsB25vXKX6S"
      }
    },
    {
      "cell_type": "code",
      "source": [
        "CO2_emission_by_energy = df.groupby('Energy_type').count()['CO2_emission'].reset_index().sort_values(by='CO2_emission',ascending=False)\n",
        "CO2_emission_by_energy.style.background_gradient(cmap='coolwarm')"
      ],
      "metadata": {
        "colab": {
          "base_uri": "https://localhost:8080/",
          "height": 237
        },
        "id": "uunkLkMsIw2i",
        "outputId": "c1cc37ca-10aa-493c-9d98-fe1e4e19f0cc"
      },
      "execution_count": 18,
      "outputs": [
        {
          "output_type": "execute_result",
          "data": {
            "text/plain": [
              "<pandas.io.formats.style.Styler at 0x7f8522decf90>"
            ],
            "text/html": [
              "<style type=\"text/css\">\n",
              "#T_ddf80_row0_col1, #T_ddf80_row1_col1 {\n",
              "  background-color: #b40426;\n",
              "  color: #f1f1f1;\n",
              "}\n",
              "#T_ddf80_row2_col1, #T_ddf80_row3_col1 {\n",
              "  background-color: #7597f6;\n",
              "  color: #f1f1f1;\n",
              "}\n",
              "#T_ddf80_row4_col1 {\n",
              "  background-color: #3d50c3;\n",
              "  color: #f1f1f1;\n",
              "}\n",
              "#T_ddf80_row5_col1 {\n",
              "  background-color: #3b4cc0;\n",
              "  color: #f1f1f1;\n",
              "}\n",
              "</style>\n",
              "<table id=\"T_ddf80_\" class=\"dataframe\">\n",
              "  <thead>\n",
              "    <tr>\n",
              "      <th class=\"blank level0\" >&nbsp;</th>\n",
              "      <th class=\"col_heading level0 col0\" >Energy_type</th>\n",
              "      <th class=\"col_heading level0 col1\" >CO2_emission</th>\n",
              "    </tr>\n",
              "  </thead>\n",
              "  <tbody>\n",
              "    <tr>\n",
              "      <th id=\"T_ddf80_level0_row0\" class=\"row_heading level0 row0\" >3</th>\n",
              "      <td id=\"T_ddf80_row0_col0\" class=\"data row0 col0\" >nuclear</td>\n",
              "      <td id=\"T_ddf80_row0_col1\" class=\"data row0 col1\" >6503</td>\n",
              "    </tr>\n",
              "    <tr>\n",
              "      <th id=\"T_ddf80_level0_row1\" class=\"row_heading level0 row1\" >5</th>\n",
              "      <td id=\"T_ddf80_row1_col0\" class=\"data row1 col0\" >renewables_n_other</td>\n",
              "      <td id=\"T_ddf80_row1_col1\" class=\"data row1 col1\" >6503</td>\n",
              "    </tr>\n",
              "    <tr>\n",
              "      <th id=\"T_ddf80_level0_row2\" class=\"row_heading level0 row2\" >0</th>\n",
              "      <td id=\"T_ddf80_row2_col0\" class=\"data row2 col0\" >all_energy_types</td>\n",
              "      <td id=\"T_ddf80_row2_col1\" class=\"data row2 col1\" >6426</td>\n",
              "    </tr>\n",
              "    <tr>\n",
              "      <th id=\"T_ddf80_level0_row3\" class=\"row_heading level0 row3\" >1</th>\n",
              "      <td id=\"T_ddf80_row3_col0\" class=\"data row3 col0\" >coal</td>\n",
              "      <td id=\"T_ddf80_row3_col1\" class=\"data row3 col1\" >6426</td>\n",
              "    </tr>\n",
              "    <tr>\n",
              "      <th id=\"T_ddf80_level0_row4\" class=\"row_heading level0 row4\" >2</th>\n",
              "      <td id=\"T_ddf80_row4_col0\" class=\"data row4 col0\" >natural_gas</td>\n",
              "      <td id=\"T_ddf80_row4_col1\" class=\"data row4 col1\" >6410</td>\n",
              "    </tr>\n",
              "    <tr>\n",
              "      <th id=\"T_ddf80_level0_row5\" class=\"row_heading level0 row5\" >4</th>\n",
              "      <td id=\"T_ddf80_row5_col0\" class=\"data row5 col0\" >petroleum_n_other_liquids</td>\n",
              "      <td id=\"T_ddf80_row5_col1\" class=\"data row5 col1\" >6409</td>\n",
              "    </tr>\n",
              "  </tbody>\n",
              "</table>\n"
            ]
          },
          "metadata": {},
          "execution_count": 18
        }
      ]
    },
    {
      "cell_type": "markdown",
      "source": [
        "# **GDP of countries b/w 1980 to 1990**"
      ],
      "metadata": {
        "id": "9SCDL0rVMSTf"
      }
    },
    {
      "cell_type": "code",
      "source": [
        "GDP = df[df['Year']<=1990]\n",
        "GDP.groupby('Year')['Country', 'Energy_type', 'GDP', 'Population', 'Energy_intensity_per_capita', 'Energy_intensity_by_GDP', 'CO2_emission'].count()"
      ],
      "metadata": {
        "colab": {
          "base_uri": "https://localhost:8080/",
          "height": 425
        },
        "id": "bLp9iRJeIwzN",
        "outputId": "9c3ec409-980b-44f7-b2fc-17fe6133dbbf"
      },
      "execution_count": 19,
      "outputs": [
        {
          "output_type": "execute_result",
          "data": {
            "text/plain": [
              "      Country  Energy_type  GDP  Population  Energy_intensity_per_capita  \\\n",
              "Year                                                                       \n",
              "1980      108          108  108         108                          108   \n",
              "1981      306          306  306         306                          306   \n",
              "1982      306          306  306         306                          306   \n",
              "1983      306          306  306         306                          306   \n",
              "1984      306          306  306         306                          306   \n",
              "1985      306          306  306         306                          306   \n",
              "1986      306          306  306         306                          306   \n",
              "1987      306          306  306         306                          306   \n",
              "1988      948          948  948         948                          948   \n",
              "1989      954          954  954         954                          954   \n",
              "1990      980          980  980         980                          980   \n",
              "\n",
              "      Energy_intensity_by_GDP  CO2_emission  \n",
              "Year                                         \n",
              "1980                      108           108  \n",
              "1981                      306           306  \n",
              "1982                      306           306  \n",
              "1983                      306           306  \n",
              "1984                      306           306  \n",
              "1985                      306           306  \n",
              "1986                      306           306  \n",
              "1987                      306           306  \n",
              "1988                      948           948  \n",
              "1989                      954           954  \n",
              "1990                      980           980  "
            ],
            "text/html": [
              "\n",
              "  <div id=\"df-a0e915c2-284b-4f77-9bb5-18ecf7e86fd6\">\n",
              "    <div class=\"colab-df-container\">\n",
              "      <div>\n",
              "<style scoped>\n",
              "    .dataframe tbody tr th:only-of-type {\n",
              "        vertical-align: middle;\n",
              "    }\n",
              "\n",
              "    .dataframe tbody tr th {\n",
              "        vertical-align: top;\n",
              "    }\n",
              "\n",
              "    .dataframe thead th {\n",
              "        text-align: right;\n",
              "    }\n",
              "</style>\n",
              "<table border=\"1\" class=\"dataframe\">\n",
              "  <thead>\n",
              "    <tr style=\"text-align: right;\">\n",
              "      <th></th>\n",
              "      <th>Country</th>\n",
              "      <th>Energy_type</th>\n",
              "      <th>GDP</th>\n",
              "      <th>Population</th>\n",
              "      <th>Energy_intensity_per_capita</th>\n",
              "      <th>Energy_intensity_by_GDP</th>\n",
              "      <th>CO2_emission</th>\n",
              "    </tr>\n",
              "    <tr>\n",
              "      <th>Year</th>\n",
              "      <th></th>\n",
              "      <th></th>\n",
              "      <th></th>\n",
              "      <th></th>\n",
              "      <th></th>\n",
              "      <th></th>\n",
              "      <th></th>\n",
              "    </tr>\n",
              "  </thead>\n",
              "  <tbody>\n",
              "    <tr>\n",
              "      <th>1980</th>\n",
              "      <td>108</td>\n",
              "      <td>108</td>\n",
              "      <td>108</td>\n",
              "      <td>108</td>\n",
              "      <td>108</td>\n",
              "      <td>108</td>\n",
              "      <td>108</td>\n",
              "    </tr>\n",
              "    <tr>\n",
              "      <th>1981</th>\n",
              "      <td>306</td>\n",
              "      <td>306</td>\n",
              "      <td>306</td>\n",
              "      <td>306</td>\n",
              "      <td>306</td>\n",
              "      <td>306</td>\n",
              "      <td>306</td>\n",
              "    </tr>\n",
              "    <tr>\n",
              "      <th>1982</th>\n",
              "      <td>306</td>\n",
              "      <td>306</td>\n",
              "      <td>306</td>\n",
              "      <td>306</td>\n",
              "      <td>306</td>\n",
              "      <td>306</td>\n",
              "      <td>306</td>\n",
              "    </tr>\n",
              "    <tr>\n",
              "      <th>1983</th>\n",
              "      <td>306</td>\n",
              "      <td>306</td>\n",
              "      <td>306</td>\n",
              "      <td>306</td>\n",
              "      <td>306</td>\n",
              "      <td>306</td>\n",
              "      <td>306</td>\n",
              "    </tr>\n",
              "    <tr>\n",
              "      <th>1984</th>\n",
              "      <td>306</td>\n",
              "      <td>306</td>\n",
              "      <td>306</td>\n",
              "      <td>306</td>\n",
              "      <td>306</td>\n",
              "      <td>306</td>\n",
              "      <td>306</td>\n",
              "    </tr>\n",
              "    <tr>\n",
              "      <th>1985</th>\n",
              "      <td>306</td>\n",
              "      <td>306</td>\n",
              "      <td>306</td>\n",
              "      <td>306</td>\n",
              "      <td>306</td>\n",
              "      <td>306</td>\n",
              "      <td>306</td>\n",
              "    </tr>\n",
              "    <tr>\n",
              "      <th>1986</th>\n",
              "      <td>306</td>\n",
              "      <td>306</td>\n",
              "      <td>306</td>\n",
              "      <td>306</td>\n",
              "      <td>306</td>\n",
              "      <td>306</td>\n",
              "      <td>306</td>\n",
              "    </tr>\n",
              "    <tr>\n",
              "      <th>1987</th>\n",
              "      <td>306</td>\n",
              "      <td>306</td>\n",
              "      <td>306</td>\n",
              "      <td>306</td>\n",
              "      <td>306</td>\n",
              "      <td>306</td>\n",
              "      <td>306</td>\n",
              "    </tr>\n",
              "    <tr>\n",
              "      <th>1988</th>\n",
              "      <td>948</td>\n",
              "      <td>948</td>\n",
              "      <td>948</td>\n",
              "      <td>948</td>\n",
              "      <td>948</td>\n",
              "      <td>948</td>\n",
              "      <td>948</td>\n",
              "    </tr>\n",
              "    <tr>\n",
              "      <th>1989</th>\n",
              "      <td>954</td>\n",
              "      <td>954</td>\n",
              "      <td>954</td>\n",
              "      <td>954</td>\n",
              "      <td>954</td>\n",
              "      <td>954</td>\n",
              "      <td>954</td>\n",
              "    </tr>\n",
              "    <tr>\n",
              "      <th>1990</th>\n",
              "      <td>980</td>\n",
              "      <td>980</td>\n",
              "      <td>980</td>\n",
              "      <td>980</td>\n",
              "      <td>980</td>\n",
              "      <td>980</td>\n",
              "      <td>980</td>\n",
              "    </tr>\n",
              "  </tbody>\n",
              "</table>\n",
              "</div>\n",
              "      <button class=\"colab-df-convert\" onclick=\"convertToInteractive('df-a0e915c2-284b-4f77-9bb5-18ecf7e86fd6')\"\n",
              "              title=\"Convert this dataframe to an interactive table.\"\n",
              "              style=\"display:none;\">\n",
              "        \n",
              "  <svg xmlns=\"http://www.w3.org/2000/svg\" height=\"24px\"viewBox=\"0 0 24 24\"\n",
              "       width=\"24px\">\n",
              "    <path d=\"M0 0h24v24H0V0z\" fill=\"none\"/>\n",
              "    <path d=\"M18.56 5.44l.94 2.06.94-2.06 2.06-.94-2.06-.94-.94-2.06-.94 2.06-2.06.94zm-11 1L8.5 8.5l.94-2.06 2.06-.94-2.06-.94L8.5 2.5l-.94 2.06-2.06.94zm10 10l.94 2.06.94-2.06 2.06-.94-2.06-.94-.94-2.06-.94 2.06-2.06.94z\"/><path d=\"M17.41 7.96l-1.37-1.37c-.4-.4-.92-.59-1.43-.59-.52 0-1.04.2-1.43.59L10.3 9.45l-7.72 7.72c-.78.78-.78 2.05 0 2.83L4 21.41c.39.39.9.59 1.41.59.51 0 1.02-.2 1.41-.59l7.78-7.78 2.81-2.81c.8-.78.8-2.07 0-2.86zM5.41 20L4 18.59l7.72-7.72 1.47 1.35L5.41 20z\"/>\n",
              "  </svg>\n",
              "      </button>\n",
              "      \n",
              "  <style>\n",
              "    .colab-df-container {\n",
              "      display:flex;\n",
              "      flex-wrap:wrap;\n",
              "      gap: 12px;\n",
              "    }\n",
              "\n",
              "    .colab-df-convert {\n",
              "      background-color: #E8F0FE;\n",
              "      border: none;\n",
              "      border-radius: 50%;\n",
              "      cursor: pointer;\n",
              "      display: none;\n",
              "      fill: #1967D2;\n",
              "      height: 32px;\n",
              "      padding: 0 0 0 0;\n",
              "      width: 32px;\n",
              "    }\n",
              "\n",
              "    .colab-df-convert:hover {\n",
              "      background-color: #E2EBFA;\n",
              "      box-shadow: 0px 1px 2px rgba(60, 64, 67, 0.3), 0px 1px 3px 1px rgba(60, 64, 67, 0.15);\n",
              "      fill: #174EA6;\n",
              "    }\n",
              "\n",
              "    [theme=dark] .colab-df-convert {\n",
              "      background-color: #3B4455;\n",
              "      fill: #D2E3FC;\n",
              "    }\n",
              "\n",
              "    [theme=dark] .colab-df-convert:hover {\n",
              "      background-color: #434B5C;\n",
              "      box-shadow: 0px 1px 3px 1px rgba(0, 0, 0, 0.15);\n",
              "      filter: drop-shadow(0px 1px 2px rgba(0, 0, 0, 0.3));\n",
              "      fill: #FFFFFF;\n",
              "    }\n",
              "  </style>\n",
              "\n",
              "      <script>\n",
              "        const buttonEl =\n",
              "          document.querySelector('#df-a0e915c2-284b-4f77-9bb5-18ecf7e86fd6 button.colab-df-convert');\n",
              "        buttonEl.style.display =\n",
              "          google.colab.kernel.accessAllowed ? 'block' : 'none';\n",
              "\n",
              "        async function convertToInteractive(key) {\n",
              "          const element = document.querySelector('#df-a0e915c2-284b-4f77-9bb5-18ecf7e86fd6');\n",
              "          const dataTable =\n",
              "            await google.colab.kernel.invokeFunction('convertToInteractive',\n",
              "                                                     [key], {});\n",
              "          if (!dataTable) return;\n",
              "\n",
              "          const docLinkHtml = 'Like what you see? Visit the ' +\n",
              "            '<a target=\"_blank\" href=https://colab.research.google.com/notebooks/data_table.ipynb>data table notebook</a>'\n",
              "            + ' to learn more about interactive tables.';\n",
              "          element.innerHTML = '';\n",
              "          dataTable['output_type'] = 'display_data';\n",
              "          await google.colab.output.renderOutput(dataTable, element);\n",
              "          const docLink = document.createElement('div');\n",
              "          docLink.innerHTML = docLinkHtml;\n",
              "          element.appendChild(docLink);\n",
              "        }\n",
              "      </script>\n",
              "    </div>\n",
              "  </div>\n",
              "  "
            ]
          },
          "metadata": {},
          "execution_count": 19
        }
      ]
    },
    {
      "cell_type": "code",
      "source": [
        "plt.figure(figsize=(10,8))\n",
        "sns.heatmap(data=GDP.corr(), annot=True,\n",
        "                 linewidths=0.5,\n",
        "                 fmt=\".2f\",\n",
        "                 cmap=\"RdBu_r\")\n",
        "plt.show()"
      ],
      "metadata": {
        "colab": {
          "base_uri": "https://localhost:8080/",
          "height": 617
        },
        "id": "arrTmPp1Iww7",
        "outputId": "d182f3bc-d921-423d-945b-a1cbc5b38ec5"
      },
      "execution_count": 20,
      "outputs": [
        {
          "output_type": "display_data",
          "data": {
            "text/plain": [
              "<Figure size 720x576 with 2 Axes>"
            ],
            "image/png": "[encoded data removed]"
          },
          "metadata": {
            "needs_background": "light"
          }
        }
      ]
    },
    {
      "cell_type": "markdown",
      "source": [
        "# **Average CO2_emission increase fastly from 1980 to 2020. Specailly last 10 years CO2 emission rapidly increases.**\n",
        "# **Average CO2_emission increase fastly from 1980 to 2020 by population. As population increased CO2 emission rapidly increases.**\n",
        "\n",
        "\n",
        "\n"
      ],
      "metadata": {
        "id": "nJwT5uoXNyQ3"
      }
    },
    {
      "cell_type": "code",
      "source": [
        "f,ax=plt.subplots(1,2,figsize=(20,8))\n",
        "dfs[['Year','CO2_emission']].groupby(['Year']).mean().plot(ax=ax[0])\n",
        "ax[0].set_title('Average Increase of CO2_emission by Year')\n",
        "dfs[['Population','CO2_emission']].groupby(['Population']).sum().plot(ax=ax[1])\n",
        "ax[1].set_title('Average Increase of CO2_emission by Population')\n",
        "plt.show()\n"
      ],
      "metadata": {
        "colab": {
          "base_uri": "https://localhost:8080/",
          "height": 513
        },
        "id": "FE6NRQYwIwuq",
        "outputId": "8c9c9a39-401d-4243-a9fd-17ae7f4ea11d"
      },
      "execution_count": 21,
      "outputs": [
        {
          "output_type": "display_data",
          "data": {
            "text/plain": [
              "<Figure size 1440x576 with 2 Axes>"
            ],
            "image/png": "[encoded data removed]"
          },
          "metadata": {
            "needs_background": "light"
          }
        }
      ]
    },
    {
      "cell_type": "markdown",
      "source": [
        "# **Analysis Top 10 countries according to GDP, Population, Energy production, CO2_emission. After seeing matrix china, india, USA are top 3 countries to produce CO2 and Population**"
      ],
      "metadata": {
        "id": "Kv6NJJiaSCDN"
      }
    },
    {
      "cell_type": "code",
      "source": [
        "top_country = df[df['Year'] == max(df['Year'])].reset_index()\n",
        "full_latest_top_country = top_country.groupby('Country')['GDP', 'Population', 'Energy_production', 'CO2_emission'].sum().reset_index()\n",
        "temp_f = full_latest_top_country.sort_values(by='Population', ascending=False)[:11]\n",
        "temp_f = temp_f.reset_index(drop=True)\n",
        "temp_f.style.background_gradient(cmap='Reds')"
      ],
      "metadata": {
        "colab": {
          "base_uri": "https://localhost:8080/",
          "height": 394
        },
        "id": "VzvXpVlWLPVG",
        "outputId": "fa14db30-c6f1-49d8-c34b-31480fafffad"
      },
      "execution_count": 22,
      "outputs": [
        {
          "output_type": "execute_result",
          "data": {
            "text/plain": [
              "<pandas.io.formats.style.Styler at 0x7f851fb50f90>"
            ],
            "text/html": [
              "<style type=\"text/css\">\n",
              "#T_f66ad_row0_col1, #T_f66ad_row0_col2, #T_f66ad_row0_col3, #T_f66ad_row0_col4 {\n",
              "  background-color: #67000d;\n",
              "  color: #f1f1f1;\n",
              "}\n",
              "#T_f66ad_row1_col1 {\n",
              "  background-color: #fdd1be;\n",
              "  color: #000000;\n",
              "}\n",
              "#T_f66ad_row1_col2 {\n",
              "  background-color: #fdd2bf;\n",
              "  color: #000000;\n",
              "}\n",
              "#T_f66ad_row1_col3 {\n",
              "  background-color: #fdcab5;\n",
              "  color: #000000;\n",
              "}\n",
              "#T_f66ad_row1_col4 {\n",
              "  background-color: #fcad90;\n",
              "  color: #000000;\n",
              "}\n",
              "#T_f66ad_row2_col1 {\n",
              "  background-color: #feeae0;\n",
              "  color: #000000;\n",
              "}\n",
              "#T_f66ad_row2_col2 {\n",
              "  background-color: #fdd5c4;\n",
              "  color: #000000;\n",
              "}\n",
              "#T_f66ad_row2_col3, #T_f66ad_row3_col2, #T_f66ad_row4_col3 {\n",
              "  background-color: #fff1ea;\n",
              "  color: #000000;\n",
              "}\n",
              "#T_f66ad_row2_col4 {\n",
              "  background-color: #ffebe2;\n",
              "  color: #000000;\n",
              "}\n",
              "#T_f66ad_row3_col1 {\n",
              "  background-color: #fed9c9;\n",
              "  color: #000000;\n",
              "}\n",
              "#T_f66ad_row3_col3 {\n",
              "  background-color: #fdd4c2;\n",
              "  color: #000000;\n",
              "}\n",
              "#T_f66ad_row3_col4 {\n",
              "  background-color: #fedaca;\n",
              "  color: #000000;\n",
              "}\n",
              "#T_f66ad_row4_col1, #T_f66ad_row4_col2, #T_f66ad_row6_col1, #T_f66ad_row6_col3 {\n",
              "  background-color: #fff2ec;\n",
              "  color: #000000;\n",
              "}\n",
              "#T_f66ad_row4_col4, #T_f66ad_row10_col1 {\n",
              "  background-color: #fff3ed;\n",
              "  color: #000000;\n",
              "}\n",
              "#T_f66ad_row5_col1, #T_f66ad_row5_col3, #T_f66ad_row5_col4, #T_f66ad_row7_col1, #T_f66ad_row7_col4, #T_f66ad_row8_col1, #T_f66ad_row8_col3, #T_f66ad_row8_col4, #T_f66ad_row9_col2, #T_f66ad_row10_col2 {\n",
              "  background-color: #fff5f0;\n",
              "  color: #000000;\n",
              "}\n",
              "#T_f66ad_row5_col2, #T_f66ad_row6_col2, #T_f66ad_row6_col4, #T_f66ad_row7_col2, #T_f66ad_row7_col3, #T_f66ad_row10_col3, #T_f66ad_row10_col4 {\n",
              "  background-color: #fff4ee;\n",
              "  color: #000000;\n",
              "}\n",
              "#T_f66ad_row8_col2 {\n",
              "  background-color: #fff4ef;\n",
              "  color: #000000;\n",
              "}\n",
              "#T_f66ad_row9_col1 {\n",
              "  background-color: #fff2eb;\n",
              "  color: #000000;\n",
              "}\n",
              "#T_f66ad_row9_col3 {\n",
              "  background-color: #fee4d8;\n",
              "  color: #000000;\n",
              "}\n",
              "#T_f66ad_row9_col4 {\n",
              "  background-color: #ffede5;\n",
              "  color: #000000;\n",
              "}\n",
              "</style>\n",
              "<table id=\"T_f66ad_\" class=\"dataframe\">\n",
              "  <thead>\n",
              "    <tr>\n",
              "      <th class=\"blank level0\" >&nbsp;</th>\n",
              "      <th class=\"col_heading level0 col0\" >Country</th>\n",
              "      <th class=\"col_heading level0 col1\" >GDP</th>\n",
              "      <th class=\"col_heading level0 col2\" >Population</th>\n",
              "      <th class=\"col_heading level0 col3\" >Energy_production</th>\n",
              "      <th class=\"col_heading level0 col4\" >CO2_emission</th>\n",
              "    </tr>\n",
              "  </thead>\n",
              "  <tbody>\n",
              "    <tr>\n",
              "      <th id=\"T_f66ad_level0_row0\" class=\"row_heading level0 row0\" >0</th>\n",
              "      <td id=\"T_f66ad_row0_col0\" class=\"data row0 col0\" >World</td>\n",
              "      <td id=\"T_f66ad_row0_col1\" class=\"data row0 col1\" >766141.482354</td>\n",
              "      <td id=\"T_f66ad_row0_col2\" class=\"data row0 col2\" >46287786.382980</td>\n",
              "      <td id=\"T_f66ad_row0_col3\" class=\"data row0 col3\" >1223.017937</td>\n",
              "      <td id=\"T_f66ad_row0_col4\" class=\"data row0 col4\" >71169.866995</td>\n",
              "    </tr>\n",
              "    <tr>\n",
              "      <th id=\"T_f66ad_level0_row1\" class=\"row_heading level0 row1\" >1</th>\n",
              "      <td id=\"T_f66ad_row1_col0\" class=\"data row1 col0\" >China</td>\n",
              "      <td id=\"T_f66ad_row1_col1\" class=\"data row1 col1\" >138770.040000</td>\n",
              "      <td id=\"T_f66ad_row1_col2\" class=\"data row1 col2\" >8607072.000000</td>\n",
              "      <td id=\"T_f66ad_row1_col3\" class=\"data row1 col3\" >247.182719</td>\n",
              "      <td id=\"T_f66ad_row1_col4\" class=\"data row1 col4\" >21217.200773</td>\n",
              "    </tr>\n",
              "    <tr>\n",
              "      <th id=\"T_f66ad_level0_row2\" class=\"row_heading level0 row2\" >2</th>\n",
              "      <td id=\"T_f66ad_row2_col0\" class=\"data row2 col0\" >India</td>\n",
              "      <td id=\"T_f66ad_row2_col1\" class=\"data row2 col1\" >55861.740000</td>\n",
              "      <td id=\"T_f66ad_row2_col2\" class=\"data row2 col2\" >8208840.000000</td>\n",
              "      <td id=\"T_f66ad_row2_col3\" class=\"data row2 col3\" >35.570744</td>\n",
              "      <td id=\"T_f66ad_row2_col4\" class=\"data row2 col4\" >4616.664040</td>\n",
              "    </tr>\n",
              "    <tr>\n",
              "      <th id=\"T_f66ad_level0_row3\" class=\"row_heading level0 row3\" >3</th>\n",
              "      <td id=\"T_f66ad_row3_col0\" class=\"data row3 col0\" >United States</td>\n",
              "      <td id=\"T_f66ad_row3_col1\" class=\"data row3 col1\" >119552.580000</td>\n",
              "      <td id=\"T_f66ad_row3_col2\" class=\"data row3 col2\" >1980262.800000</td>\n",
              "      <td id=\"T_f66ad_row3_col3\" class=\"data row3 col3\" >202.801836</td>\n",
              "      <td id=\"T_f66ad_row3_col4\" class=\"data row3 col4\" >10554.385508</td>\n",
              "    </tr>\n",
              "    <tr>\n",
              "      <th id=\"T_f66ad_level0_row4\" class=\"row_heading level0 row4\" >4</th>\n",
              "      <td id=\"T_f66ad_row4_col0\" class=\"data row4 col0\" >Indonesia</td>\n",
              "      <td id=\"T_f66ad_row4_col1\" class=\"data row4 col1\" >19366.002000</td>\n",
              "      <td id=\"T_f66ad_row4_col2\" class=\"data row4 col2\" >1625904.000000</td>\n",
              "      <td id=\"T_f66ad_row4_col3\" class=\"data row4 col3\" >34.118303</td>\n",
              "      <td id=\"T_f66ad_row4_col4\" class=\"data row4 col4\" >1058.809346</td>\n",
              "    </tr>\n",
              "    <tr>\n",
              "      <th id=\"T_f66ad_level0_row5\" class=\"row_heading level0 row5\" >5</th>\n",
              "      <td id=\"T_f66ad_row5_col0\" class=\"data row5 col0\" >Pakistan</td>\n",
              "      <td id=\"T_f66ad_row5_col1\" class=\"data row5 col1\" >6239.280000</td>\n",
              "      <td id=\"T_f66ad_row5_col2\" class=\"data row5 col2\" >1299384.000000</td>\n",
              "      <td id=\"T_f66ad_row5_col3\" class=\"data row5 col3\" >3.855328</td>\n",
              "      <td id=\"T_f66ad_row5_col4\" class=\"data row5 col4\" >385.793988</td>\n",
              "    </tr>\n",
              "    <tr>\n",
              "      <th id=\"T_f66ad_level0_row6\" class=\"row_heading level0 row6\" >6</th>\n",
              "      <td id=\"T_f66ad_row6_col0\" class=\"data row6 col0\" >Brazil</td>\n",
              "      <td id=\"T_f66ad_row6_col1\" class=\"data row6 col1\" >18247.794000</td>\n",
              "      <td id=\"T_f66ad_row6_col2\" class=\"data row6 col2\" >1267477.200000</td>\n",
              "      <td id=\"T_f66ad_row6_col3\" class=\"data row6 col3\" >25.426486</td>\n",
              "      <td id=\"T_f66ad_row6_col4\" class=\"data row6 col4\" >906.886544</td>\n",
              "    </tr>\n",
              "    <tr>\n",
              "      <th id=\"T_f66ad_level0_row7\" class=\"row_heading level0 row7\" >7</th>\n",
              "      <td id=\"T_f66ad_row7_col0\" class=\"data row7 col0\" >Nigeria</td>\n",
              "      <td id=\"T_f66ad_row7_col1\" class=\"data row7 col1\" >6095.334000</td>\n",
              "      <td id=\"T_f66ad_row7_col2\" class=\"data row7 col2\" >1206304.800000</td>\n",
              "      <td id=\"T_f66ad_row7_col3\" class=\"data row7 col3\" >12.048611</td>\n",
              "      <td id=\"T_f66ad_row7_col4\" class=\"data row7 col4\" >202.387851</td>\n",
              "    </tr>\n",
              "    <tr>\n",
              "      <th id=\"T_f66ad_level0_row8\" class=\"row_heading level0 row8\" >8</th>\n",
              "      <td id=\"T_f66ad_row8_col0\" class=\"data row8 col0\" >Bangladesh</td>\n",
              "      <td id=\"T_f66ad_row8_col1\" class=\"data row8 col1\" >4788.678000</td>\n",
              "      <td id=\"T_f66ad_row8_col2\" class=\"data row8 col2\" >978126.000000</td>\n",
              "      <td id=\"T_f66ad_row8_col3\" class=\"data row8 col3\" >2.218214</td>\n",
              "      <td id=\"T_f66ad_row8_col4\" class=\"data row8 col4\" >181.563262</td>\n",
              "    </tr>\n",
              "    <tr>\n",
              "      <th id=\"T_f66ad_level0_row9\" class=\"row_heading level0 row9\" >9</th>\n",
              "      <td id=\"T_f66ad_row9_col0\" class=\"data row9 col0\" >Russia</td>\n",
              "      <td id=\"T_f66ad_row9_col1\" class=\"data row9 col1\" >22622.520000</td>\n",
              "      <td id=\"T_f66ad_row9_col2\" class=\"data row9 col2\" >875257.800000</td>\n",
              "      <td id=\"T_f66ad_row9_col3\" class=\"data row9 col3\" >128.555991</td>\n",
              "      <td id=\"T_f66ad_row9_col4\" class=\"data row9 col4\" >3596.484477</td>\n",
              "    </tr>\n",
              "    <tr>\n",
              "      <th id=\"T_f66ad_level0_row10\" class=\"row_heading level0 row10\" >10</th>\n",
              "      <td id=\"T_f66ad_row10_col0\" class=\"data row10 col0\" >Mexico</td>\n",
              "      <td id=\"T_f66ad_row10_col1\" class=\"data row10 col1\" >14304.852000</td>\n",
              "      <td id=\"T_f66ad_row10_col2\" class=\"data row10 col2\" >766474.800000</td>\n",
              "      <td id=\"T_f66ad_row10_col3\" class=\"data row10 col3\" >11.819714</td>\n",
              "      <td id=\"T_f66ad_row10_col4\" class=\"data row10 col4\" >912.296677</td>\n",
              "    </tr>\n",
              "  </tbody>\n",
              "</table>\n"
            ]
          },
          "metadata": {},
          "execution_count": 22
        }
      ]
    },
    {
      "cell_type": "markdown",
      "source": [
        "# **Analysis Last 20 year according to GDP, Population, Energy production, CO2_emission. After seeing matrix last 3 years 2019,2018,2017 are worst year as CO2 and Population increase as compared to pervious years**"
      ],
      "metadata": {
        "id": "rUkySY5YXyEl"
      }
    },
    {
      "cell_type": "code",
      "source": [
        "top_country = dfs[dfs['Year'] == (dfs['Year'])].reset_index()\n",
        "full_latest_top_country = top_country.groupby('Year')['GDP', 'Population', 'Energy_production', 'CO2_emission'].sum().reset_index()\n",
        "temp_f = full_latest_top_country.sort_values(by='Population', ascending=False)[:21]\n",
        "temp_f = temp_f.reset_index(drop=True)\n",
        "temp_f.style.background_gradient(cmap='Reds')"
      ],
      "metadata": {
        "colab": {
          "base_uri": "https://localhost:8080/",
          "height": 707
        },
        "id": "lr2PrhUgW4Oy",
        "outputId": "d261e517-048e-4753-88de-8215089127c9"
      },
      "execution_count": 23,
      "outputs": [
        {
          "output_type": "execute_result",
          "data": {
            "text/plain": [
              "<pandas.io.formats.style.Styler at 0x7f851faec3d0>"
            ],
            "text/html": [
              "<style type=\"text/css\">\n",
              "#T_10d4f_row0_col0, #T_10d4f_row0_col1, #T_10d4f_row0_col2, #T_10d4f_row0_col3, #T_10d4f_row0_col4 {\n",
              "  background-color: #67000d;\n",
              "  color: #f1f1f1;\n",
              "}\n",
              "#T_10d4f_row1_col0, #T_10d4f_row1_col2, #T_10d4f_row1_col3 {\n",
              "  background-color: #7e0610;\n",
              "  color: #f1f1f1;\n",
              "}\n",
              "#T_10d4f_row1_col1, #T_10d4f_row4_col4 {\n",
              "  background-color: #820711;\n",
              "  color: #f1f1f1;\n",
              "}\n",
              "#T_10d4f_row1_col4 {\n",
              "  background-color: #7c0510;\n",
              "  color: #f1f1f1;\n",
              "}\n",
              "#T_10d4f_row2_col0, #T_10d4f_row2_col2 {\n",
              "  background-color: #980c13;\n",
              "  color: #f1f1f1;\n",
              "}\n",
              "#T_10d4f_row2_col1 {\n",
              "  background-color: #a30f15;\n",
              "  color: #f1f1f1;\n",
              "}\n",
              "#T_10d4f_row2_col3 {\n",
              "  background-color: #ab1016;\n",
              "  color: #f1f1f1;\n",
              "}\n",
              "#T_10d4f_row2_col4 {\n",
              "  background-color: #8e0912;\n",
              "  color: #f1f1f1;\n",
              "}\n",
              "#T_10d4f_row3_col0, #T_10d4f_row3_col2 {\n",
              "  background-color: #ac1117;\n",
              "  color: #f1f1f1;\n",
              "}\n",
              "#T_10d4f_row3_col1, #T_10d4f_row4_col3 {\n",
              "  background-color: #b81419;\n",
              "  color: #f1f1f1;\n",
              "}\n",
              "#T_10d4f_row3_col3 {\n",
              "  background-color: #be151a;\n",
              "  color: #f1f1f1;\n",
              "}\n",
              "#T_10d4f_row3_col4 {\n",
              "  background-color: #880811;\n",
              "  color: #f1f1f1;\n",
              "}\n",
              "#T_10d4f_row4_col0, #T_10d4f_row4_col2 {\n",
              "  background-color: #bc141a;\n",
              "  color: #f1f1f1;\n",
              "}\n",
              "#T_10d4f_row4_col1 {\n",
              "  background-color: #c9181d;\n",
              "  color: #f1f1f1;\n",
              "}\n",
              "#T_10d4f_row5_col0, #T_10d4f_row8_col4 {\n",
              "  background-color: #ca181d;\n",
              "  color: #f1f1f1;\n",
              "}\n",
              "#T_10d4f_row5_col1, #T_10d4f_row6_col0 {\n",
              "  background-color: #d92523;\n",
              "  color: #f1f1f1;\n",
              "}\n",
              "#T_10d4f_row5_col2 {\n",
              "  background-color: #cb181d;\n",
              "  color: #f1f1f1;\n",
              "}\n",
              "#T_10d4f_row5_col3 {\n",
              "  background-color: #bf151b;\n",
              "  color: #f1f1f1;\n",
              "}\n",
              "#T_10d4f_row5_col4 {\n",
              "  background-color: #840711;\n",
              "  color: #f1f1f1;\n",
              "}\n",
              "#T_10d4f_row6_col1, #T_10d4f_row7_col2 {\n",
              "  background-color: #e93529;\n",
              "  color: #f1f1f1;\n",
              "}\n",
              "#T_10d4f_row6_col2 {\n",
              "  background-color: #da2723;\n",
              "  color: #f1f1f1;\n",
              "}\n",
              "#T_10d4f_row6_col3 {\n",
              "  background-color: #cc191e;\n",
              "  color: #f1f1f1;\n",
              "}\n",
              "#T_10d4f_row6_col4 {\n",
              "  background-color: #940b13;\n",
              "  color: #f1f1f1;\n",
              "}\n",
              "#T_10d4f_row7_col0 {\n",
              "  background-color: #e83429;\n",
              "  color: #f1f1f1;\n",
              "}\n",
              "#T_10d4f_row7_col1, #T_10d4f_row8_col2 {\n",
              "  background-color: #f24734;\n",
              "  color: #f1f1f1;\n",
              "}\n",
              "#T_10d4f_row7_col3 {\n",
              "  background-color: #d72322;\n",
              "  color: #f1f1f1;\n",
              "}\n",
              "#T_10d4f_row7_col4 {\n",
              "  background-color: #af1117;\n",
              "  color: #f1f1f1;\n",
              "}\n",
              "#T_10d4f_row8_col0, #T_10d4f_row9_col4 {\n",
              "  background-color: #f14432;\n",
              "  color: #f1f1f1;\n",
              "}\n",
              "#T_10d4f_row8_col1 {\n",
              "  background-color: #f7593f;\n",
              "  color: #f1f1f1;\n",
              "}\n",
              "#T_10d4f_row8_col3 {\n",
              "  background-color: #e63328;\n",
              "  color: #f1f1f1;\n",
              "}\n",
              "#T_10d4f_row9_col0 {\n",
              "  background-color: #f6583e;\n",
              "  color: #f1f1f1;\n",
              "}\n",
              "#T_10d4f_row9_col1, #T_10d4f_row10_col2 {\n",
              "  background-color: #fb6e4e;\n",
              "  color: #f1f1f1;\n",
              "}\n",
              "#T_10d4f_row9_col2 {\n",
              "  background-color: #f75c41;\n",
              "  color: #f1f1f1;\n",
              "}\n",
              "#T_10d4f_row9_col3 {\n",
              "  background-color: #f34935;\n",
              "  color: #f1f1f1;\n",
              "}\n",
              "#T_10d4f_row10_col0 {\n",
              "  background-color: #fb694a;\n",
              "  color: #f1f1f1;\n",
              "}\n",
              "#T_10d4f_row10_col1 {\n",
              "  background-color: #fc8565;\n",
              "  color: #f1f1f1;\n",
              "}\n",
              "#T_10d4f_row10_col3 {\n",
              "  background-color: #fb7252;\n",
              "  color: #f1f1f1;\n",
              "}\n",
              "#T_10d4f_row10_col4 {\n",
              "  background-color: #f03f2e;\n",
              "  color: #f1f1f1;\n",
              "}\n",
              "#T_10d4f_row11_col0 {\n",
              "  background-color: #fb7a5a;\n",
              "  color: #f1f1f1;\n",
              "}\n",
              "#T_10d4f_row11_col1, #T_10d4f_row12_col3 {\n",
              "  background-color: #fc8262;\n",
              "  color: #f1f1f1;\n",
              "}\n",
              "#T_10d4f_row11_col2 {\n",
              "  background-color: #fb7d5d;\n",
              "  color: #f1f1f1;\n",
              "}\n",
              "#T_10d4f_row11_col3 {\n",
              "  background-color: #fb7050;\n",
              "  color: #f1f1f1;\n",
              "}\n",
              "#T_10d4f_row11_col4 {\n",
              "  background-color: #f6553c;\n",
              "  color: #f1f1f1;\n",
              "}\n",
              "#T_10d4f_row12_col0 {\n",
              "  background-color: #fc8a6a;\n",
              "  color: #f1f1f1;\n",
              "}\n",
              "#T_10d4f_row12_col1 {\n",
              "  background-color: #fc8f6f;\n",
              "  color: #000000;\n",
              "}\n",
              "#T_10d4f_row12_col2, #T_10d4f_row13_col3 {\n",
              "  background-color: #fc8e6e;\n",
              "  color: #000000;\n",
              "}\n",
              "#T_10d4f_row12_col4 {\n",
              "  background-color: #f96245;\n",
              "  color: #f1f1f1;\n",
              "}\n",
              "#T_10d4f_row13_col0 {\n",
              "  background-color: #fc9b7c;\n",
              "  color: #000000;\n",
              "}\n",
              "#T_10d4f_row13_col1 {\n",
              "  background-color: #fca588;\n",
              "  color: #000000;\n",
              "}\n",
              "#T_10d4f_row13_col2 {\n",
              "  background-color: #fc9e80;\n",
              "  color: #000000;\n",
              "}\n",
              "#T_10d4f_row13_col4 {\n",
              "  background-color: #fb7b5b;\n",
              "  color: #f1f1f1;\n",
              "}\n",
              "#T_10d4f_row14_col0 {\n",
              "  background-color: #fcab8f;\n",
              "  color: #000000;\n",
              "}\n",
              "#T_10d4f_row14_col1, #T_10d4f_row15_col0 {\n",
              "  background-color: #fcbba1;\n",
              "  color: #000000;\n",
              "}\n",
              "#T_10d4f_row14_col2 {\n",
              "  background-color: #fcaf93;\n",
              "  color: #000000;\n",
              "}\n",
              "#T_10d4f_row14_col3 {\n",
              "  background-color: #fca082;\n",
              "  color: #000000;\n",
              "}\n",
              "#T_10d4f_row14_col4 {\n",
              "  background-color: #fc9879;\n",
              "  color: #000000;\n",
              "}\n",
              "#T_10d4f_row15_col1 {\n",
              "  background-color: #fdcbb6;\n",
              "  color: #000000;\n",
              "}\n",
              "#T_10d4f_row15_col2 {\n",
              "  background-color: #fcbfa7;\n",
              "  color: #000000;\n",
              "}\n",
              "#T_10d4f_row15_col3 {\n",
              "  background-color: #fcb89e;\n",
              "  color: #000000;\n",
              "}\n",
              "#T_10d4f_row15_col4 {\n",
              "  background-color: #fcbda4;\n",
              "  color: #000000;\n",
              "}\n",
              "#T_10d4f_row16_col0 {\n",
              "  background-color: #fdcab5;\n",
              "  color: #000000;\n",
              "}\n",
              "#T_10d4f_row16_col1 {\n",
              "  background-color: #fedccd;\n",
              "  color: #000000;\n",
              "}\n",
              "#T_10d4f_row16_col2 {\n",
              "  background-color: #fdcdb9;\n",
              "  color: #000000;\n",
              "}\n",
              "#T_10d4f_row16_col3 {\n",
              "  background-color: #fdd5c4;\n",
              "  color: #000000;\n",
              "}\n",
              "#T_10d4f_row16_col4, #T_10d4f_row17_col0 {\n",
              "  background-color: #fed9c9;\n",
              "  color: #000000;\n",
              "}\n",
              "#T_10d4f_row17_col1, #T_10d4f_row18_col0 {\n",
              "  background-color: #fee5d8;\n",
              "  color: #000000;\n",
              "}\n",
              "#T_10d4f_row17_col2 {\n",
              "  background-color: #fedbcc;\n",
              "  color: #000000;\n",
              "}\n",
              "#T_10d4f_row17_col3 {\n",
              "  background-color: #fee6da;\n",
              "  color: #000000;\n",
              "}\n",
              "#T_10d4f_row17_col4 {\n",
              "  background-color: #fee4d8;\n",
              "  color: #000000;\n",
              "}\n",
              "#T_10d4f_row18_col1 {\n",
              "  background-color: #fee9df;\n",
              "  color: #000000;\n",
              "}\n",
              "#T_10d4f_row18_col2 {\n",
              "  background-color: #fee5d9;\n",
              "  color: #000000;\n",
              "}\n",
              "#T_10d4f_row18_col3 {\n",
              "  background-color: #fee7dc;\n",
              "  color: #000000;\n",
              "}\n",
              "#T_10d4f_row18_col4 {\n",
              "  background-color: #fee7db;\n",
              "  color: #000000;\n",
              "}\n",
              "#T_10d4f_row19_col0, #T_10d4f_row19_col1, #T_10d4f_row19_col2 {\n",
              "  background-color: #ffede5;\n",
              "  color: #000000;\n",
              "}\n",
              "#T_10d4f_row19_col3 {\n",
              "  background-color: #ffebe2;\n",
              "  color: #000000;\n",
              "}\n",
              "#T_10d4f_row19_col4 {\n",
              "  background-color: #fff0e9;\n",
              "  color: #000000;\n",
              "}\n",
              "#T_10d4f_row20_col0, #T_10d4f_row20_col1, #T_10d4f_row20_col2, #T_10d4f_row20_col3, #T_10d4f_row20_col4 {\n",
              "  background-color: #fff5f0;\n",
              "  color: #000000;\n",
              "}\n",
              "</style>\n",
              "<table id=\"T_10d4f_\" class=\"dataframe\">\n",
              "  <thead>\n",
              "    <tr>\n",
              "      <th class=\"blank level0\" >&nbsp;</th>\n",
              "      <th class=\"col_heading level0 col0\" >Year</th>\n",
              "      <th class=\"col_heading level0 col1\" >GDP</th>\n",
              "      <th class=\"col_heading level0 col2\" >Population</th>\n",
              "      <th class=\"col_heading level0 col3\" >Energy_production</th>\n",
              "      <th class=\"col_heading level0 col4\" >CO2_emission</th>\n",
              "    </tr>\n",
              "  </thead>\n",
              "  <tbody>\n",
              "    <tr>\n",
              "      <th id=\"T_10d4f_level0_row0\" class=\"row_heading level0 row0\" >0</th>\n",
              "      <td id=\"T_10d4f_row0_col0\" class=\"data row0 col0\" >2019</td>\n",
              "      <td id=\"T_10d4f_row0_col1\" class=\"data row0 col1\" >1532282.964708</td>\n",
              "      <td id=\"T_10d4f_row0_col2\" class=\"data row0 col2\" >92575572.765960</td>\n",
              "      <td id=\"T_10d4f_row0_col3\" class=\"data row0 col3\" >2446.035875</td>\n",
              "      <td id=\"T_10d4f_row0_col4\" class=\"data row0 col4\" >142339.733991</td>\n",
              "    </tr>\n",
              "    <tr>\n",
              "      <th id=\"T_10d4f_level0_row1\" class=\"row_heading level0 row1\" >1</th>\n",
              "      <td id=\"T_10d4f_row1_col0\" class=\"data row1 col0\" >2018</td>\n",
              "      <td id=\"T_10d4f_row1_col1\" class=\"data row1 col1\" >1489943.928420</td>\n",
              "      <td id=\"T_10d4f_row1_col2\" class=\"data row1 col2\" >91586964.138600</td>\n",
              "      <td id=\"T_10d4f_row1_col3\" class=\"data row1 col3\" >2402.914918</td>\n",
              "      <td id=\"T_10d4f_row1_col4\" class=\"data row1 col4\" >140011.603109</td>\n",
              "    </tr>\n",
              "    <tr>\n",
              "      <th id=\"T_10d4f_level0_row2\" class=\"row_heading level0 row2\" >2</th>\n",
              "      <td id=\"T_10d4f_row2_col0\" class=\"data row2 col0\" >2017</td>\n",
              "      <td id=\"T_10d4f_row2_col1\" class=\"data row2 col1\" >1438251.860484</td>\n",
              "      <td id=\"T_10d4f_row2_col2\" class=\"data row2 col2\" >90580125.472440</td>\n",
              "      <td id=\"T_10d4f_row2_col3\" class=\"data row2 col3\" >2312.981018</td>\n",
              "      <td id=\"T_10d4f_row2_col4\" class=\"data row2 col4\" >138289.522816</td>\n",
              "    </tr>\n",
              "    <tr>\n",
              "      <th id=\"T_10d4f_level0_row3\" class=\"row_heading level0 row3\" >3</th>\n",
              "      <td id=\"T_10d4f_row3_col0\" class=\"data row3 col0\" >2016</td>\n",
              "      <td id=\"T_10d4f_row3_col1\" class=\"data row3 col1\" >1386814.561260</td>\n",
              "      <td id=\"T_10d4f_row3_col2\" class=\"data row3 col2\" >89568514.154760</td>\n",
              "      <td id=\"T_10d4f_row3_col3\" class=\"data row3 col3\" >2258.321104</td>\n",
              "      <td id=\"T_10d4f_row3_col4\" class=\"data row3 col4\" >139006.422372</td>\n",
              "    </tr>\n",
              "    <tr>\n",
              "      <th id=\"T_10d4f_level0_row4\" class=\"row_heading level0 row4\" >4</th>\n",
              "      <td id=\"T_10d4f_row4_col0\" class=\"data row4 col0\" >2015</td>\n",
              "      <td id=\"T_10d4f_row4_col1\" class=\"data row4 col1\" >1343230.748856</td>\n",
              "      <td id=\"T_10d4f_row4_col2\" class=\"data row4 col2\" >88550727.840360</td>\n",
              "      <td id=\"T_10d4f_row4_col3\" class=\"data row4 col3\" >2274.233168</td>\n",
              "      <td id=\"T_10d4f_row4_col4\" class=\"data row4 col4\" >139577.040210</td>\n",
              "    </tr>\n",
              "    <tr>\n",
              "      <th id=\"T_10d4f_level0_row5\" class=\"row_heading level0 row5\" >5</th>\n",
              "      <td id=\"T_10d4f_row5_col0\" class=\"data row5 col0\" >2014</td>\n",
              "      <td id=\"T_10d4f_row5_col1\" class=\"data row5 col1\" >1300850.158296</td>\n",
              "      <td id=\"T_10d4f_row5_col2\" class=\"data row5 col2\" >87567239.772000</td>\n",
              "      <td id=\"T_10d4f_row5_col3\" class=\"data row5 col3\" >2253.324967</td>\n",
              "      <td id=\"T_10d4f_row5_col4\" class=\"data row5 col4\" >139359.616997</td>\n",
              "    </tr>\n",
              "    <tr>\n",
              "      <th id=\"T_10d4f_level0_row6\" class=\"row_heading level0 row6\" >6</th>\n",
              "      <td id=\"T_10d4f_row6_col0\" class=\"data row6 col0\" >2013</td>\n",
              "      <td id=\"T_10d4f_row6_col1\" class=\"data row6 col1\" >1258313.386392</td>\n",
              "      <td id=\"T_10d4f_row6_col2\" class=\"data row6 col2\" >86541866.508000</td>\n",
              "      <td id=\"T_10d4f_row6_col3\" class=\"data row6 col3\" >2216.710212</td>\n",
              "      <td id=\"T_10d4f_row6_col4\" class=\"data row6 col4\" >137693.658992</td>\n",
              "    </tr>\n",
              "    <tr>\n",
              "      <th id=\"T_10d4f_level0_row7\" class=\"row_heading level0 row7\" >7</th>\n",
              "      <td id=\"T_10d4f_row7_col0\" class=\"data row7 col0\" >2012</td>\n",
              "      <td id=\"T_10d4f_row7_col1\" class=\"data row7 col1\" >1218409.350936</td>\n",
              "      <td id=\"T_10d4f_row7_col2\" class=\"data row7 col2\" >85515147.528240</td>\n",
              "      <td id=\"T_10d4f_row7_col3\" class=\"data row7 col3\" >2185.334422</td>\n",
              "      <td id=\"T_10d4f_row7_col4\" class=\"data row7 col4\" >134533.297949</td>\n",
              "    </tr>\n",
              "    <tr>\n",
              "      <th id=\"T_10d4f_level0_row8\" class=\"row_heading level0 row8\" >8</th>\n",
              "      <td id=\"T_10d4f_row8_col0\" class=\"data row8 col0\" >2011</td>\n",
              "      <td id=\"T_10d4f_row8_col1\" class=\"data row8 col1\" >1180224.384600</td>\n",
              "      <td id=\"T_10d4f_row8_col2\" class=\"data row8 col2\" >84441568.068000</td>\n",
              "      <td id=\"T_10d4f_row8_col3\" class=\"data row8 col3\" >2136.751490</td>\n",
              "      <td id=\"T_10d4f_row8_col4\" class=\"data row8 col4\" >130077.221498</td>\n",
              "    </tr>\n",
              "    <tr>\n",
              "      <th id=\"T_10d4f_level0_row9\" class=\"row_heading level0 row9\" >9</th>\n",
              "      <td id=\"T_10d4f_row9_col0\" class=\"data row9 col0\" >2010</td>\n",
              "      <td id=\"T_10d4f_row9_col1\" class=\"data row9 col1\" >1135410.317220</td>\n",
              "      <td id=\"T_10d4f_row9_col2\" class=\"data row9 col2\" >83385720.168000</td>\n",
              "      <td id=\"T_10d4f_row9_col3\" class=\"data row9 col3\" >2074.926630</td>\n",
              "      <td id=\"T_10d4f_row9_col4\" class=\"data row9 col4\" >122487.308935</td>\n",
              "    </tr>\n",
              "    <tr>\n",
              "      <th id=\"T_10d4f_level0_row10\" class=\"row_heading level0 row10\" >10</th>\n",
              "      <td id=\"T_10d4f_row10_col0\" class=\"data row10 col0\" >2009</td>\n",
              "      <td id=\"T_10d4f_row10_col1\" class=\"data row10 col1\" >1080038.112300</td>\n",
              "      <td id=\"T_10d4f_row10_col2\" class=\"data row10 col2\" >82389530.210400</td>\n",
              "      <td id=\"T_10d4f_row10_col3\" class=\"data row10 col3\" >1972.170692</td>\n",
              "      <td id=\"T_10d4f_row10_col4\" class=\"data row10 col4\" >123181.803749</td>\n",
              "    </tr>\n",
              "    <tr>\n",
              "      <th id=\"T_10d4f_level0_row11\" class=\"row_heading level0 row11\" >11</th>\n",
              "      <td id=\"T_10d4f_row11_col0\" class=\"data row11 col0\" >2008</td>\n",
              "      <td id=\"T_10d4f_row11_col1\" class=\"data row11 col1\" >1087495.243992</td>\n",
              "      <td id=\"T_10d4f_row11_col2\" class=\"data row11 col2\" >81397613.280000</td>\n",
              "      <td id=\"T_10d4f_row11_col3\" class=\"data row11 col3\" >1981.283946</td>\n",
              "      <td id=\"T_10d4f_row11_col4\" class=\"data row11 col4\" >120335.127522</td>\n",
              "    </tr>\n",
              "    <tr>\n",
              "      <th id=\"T_10d4f_level0_row12\" class=\"row_heading level0 row12\" >12</th>\n",
              "      <td id=\"T_10d4f_row12_col0\" class=\"data row12 col0\" >2007</td>\n",
              "      <td id=\"T_10d4f_row12_col1\" class=\"data row12 col1\" >1056816.631812</td>\n",
              "      <td id=\"T_10d4f_row12_col2\" class=\"data row12 col2\" >80394062.376000</td>\n",
              "      <td id=\"T_10d4f_row12_col3\" class=\"data row12 col3\" >1929.445757</td>\n",
              "      <td id=\"T_10d4f_row12_col4\" class=\"data row12 col4\" >118530.160501</td>\n",
              "    </tr>\n",
              "    <tr>\n",
              "      <th id=\"T_10d4f_level0_row13\" class=\"row_heading level0 row13\" >13</th>\n",
              "      <td id=\"T_10d4f_row13_col0\" class=\"data row13 col0\" >2006</td>\n",
              "      <td id=\"T_10d4f_row13_col1\" class=\"data row13 col1\" >1004448.422460</td>\n",
              "      <td id=\"T_10d4f_row13_col2\" class=\"data row13 col2\" >79408367.603640</td>\n",
              "      <td id=\"T_10d4f_row13_col3\" class=\"data row13 col3\" >1894.788256</td>\n",
              "      <td id=\"T_10d4f_row13_col4\" class=\"data row13 col4\" >114758.706618</td>\n",
              "    </tr>\n",
              "    <tr>\n",
              "      <th id=\"T_10d4f_level0_row14\" class=\"row_heading level0 row14\" >14</th>\n",
              "      <td id=\"T_10d4f_row14_col0\" class=\"data row14 col0\" >2005</td>\n",
              "      <td id=\"T_10d4f_row14_col1\" class=\"data row14 col1\" >954274.372620</td>\n",
              "      <td id=\"T_10d4f_row14_col2\" class=\"data row14 col2\" >78383145.312000</td>\n",
              "      <td id=\"T_10d4f_row14_col3\" class=\"data row14 col3\" >1845.284540</td>\n",
              "      <td id=\"T_10d4f_row14_col4\" class=\"data row14 col4\" >110409.278137</td>\n",
              "    </tr>\n",
              "    <tr>\n",
              "      <th id=\"T_10d4f_level0_row15\" class=\"row_heading level0 row15\" >15</th>\n",
              "      <td id=\"T_10d4f_row15_col0\" class=\"data row15 col0\" >2004</td>\n",
              "      <td id=\"T_10d4f_row15_col1\" class=\"data row15 col1\" >911938.619196</td>\n",
              "      <td id=\"T_10d4f_row15_col2\" class=\"data row15 col2\" >77421136.642560</td>\n",
              "      <td id=\"T_10d4f_row15_col3\" class=\"data row15 col3\" >1781.783623</td>\n",
              "      <td id=\"T_10d4f_row15_col4\" class=\"data row15 col4\" >104679.223231</td>\n",
              "    </tr>\n",
              "    <tr>\n",
              "      <th id=\"T_10d4f_level0_row16\" class=\"row_heading level0 row16\" >16</th>\n",
              "      <td id=\"T_10d4f_row16_col0\" class=\"data row16 col0\" >2003</td>\n",
              "      <td id=\"T_10d4f_row16_col1\" class=\"data row16 col1\" >867825.769116</td>\n",
              "      <td id=\"T_10d4f_row16_col2\" class=\"data row16 col2\" >76468679.943840</td>\n",
              "      <td id=\"T_10d4f_row16_col3\" class=\"data row16 col3\" >1692.522141</td>\n",
              "      <td id=\"T_10d4f_row16_col4\" class=\"data row16 col4\" >100064.189838</td>\n",
              "    </tr>\n",
              "    <tr>\n",
              "      <th id=\"T_10d4f_level0_row17\" class=\"row_heading level0 row17\" >17</th>\n",
              "      <td id=\"T_10d4f_row17_col0\" class=\"data row17 col0\" >2002</td>\n",
              "      <td id=\"T_10d4f_row17_col1\" class=\"data row17 col1\" >837218.622696</td>\n",
              "      <td id=\"T_10d4f_row17_col2\" class=\"data row17 col2\" >75518739.182400</td>\n",
              "      <td id=\"T_10d4f_row17_col3\" class=\"data row17 col3\" >1629.433435</td>\n",
              "      <td id=\"T_10d4f_row17_col4\" class=\"data row17 col4\" >97852.436087</td>\n",
              "    </tr>\n",
              "    <tr>\n",
              "      <th id=\"T_10d4f_level0_row18\" class=\"row_heading level0 row18\" >18</th>\n",
              "      <td id=\"T_10d4f_row18_col0\" class=\"data row18 col0\" >2001</td>\n",
              "      <td id=\"T_10d4f_row18_col1\" class=\"data row18 col1\" >814757.784204</td>\n",
              "      <td id=\"T_10d4f_row18_col2\" class=\"data row18 col2\" >74577323.827440</td>\n",
              "      <td id=\"T_10d4f_row18_col3\" class=\"data row18 col3\" >1622.189041</td>\n",
              "      <td id=\"T_10d4f_row18_col4\" class=\"data row18 col4\" >97032.323546</td>\n",
              "    </tr>\n",
              "    <tr>\n",
              "      <th id=\"T_10d4f_level0_row19\" class=\"row_heading level0 row19\" >19</th>\n",
              "      <td id=\"T_10d4f_row19_col0\" class=\"data row19 col0\" >2000</td>\n",
              "      <td id=\"T_10d4f_row19_col1\" class=\"data row19 col1\" >796344.285936</td>\n",
              "      <td id=\"T_10d4f_row19_col2\" class=\"data row19 col2\" >73637699.904240</td>\n",
              "      <td id=\"T_10d4f_row19_col3\" class=\"data row19 col3\" >1599.420863</td>\n",
              "      <td id=\"T_10d4f_row19_col4\" class=\"data row19 col4\" >93979.665132</td>\n",
              "    </tr>\n",
              "    <tr>\n",
              "      <th id=\"T_10d4f_level0_row20\" class=\"row_heading level0 row20\" >20</th>\n",
              "      <td id=\"T_10d4f_row20_col0\" class=\"data row20 col0\" >1999</td>\n",
              "      <td id=\"T_10d4f_row20_col1\" class=\"data row20 col1\" >759894.169068</td>\n",
              "      <td id=\"T_10d4f_row20_col2\" class=\"data row20 col2\" >72697353.660000</td>\n",
              "      <td id=\"T_10d4f_row20_col3\" class=\"data row20 col3\" >1546.553445</td>\n",
              "      <td id=\"T_10d4f_row20_col4\" class=\"data row20 col4\" >92608.657383</td>\n",
              "    </tr>\n",
              "  </tbody>\n",
              "</table>\n"
            ]
          },
          "metadata": {},
          "execution_count": 23
        }
      ]
    },
    {
      "cell_type": "markdown",
      "source": [
        "# **India GDP in last 40 years vs India Population in last 40 year**"
      ],
      "metadata": {
        "id": "Lm14AktEZvGy"
      }
    },
    {
      "cell_type": "code",
      "source": [
        "# Before Adjustment\n",
        "ax = plt.subplot(1, 2, 1)\n",
        "dfs[dfs['Country'] == 'India'].plot(x='Year', y='GDP', legend=None, ax=ax, figsize=(20, 5), title='India GDP in last 40 years');\n",
        "\n",
        "ax = plt.subplot(1, 2, 2)\n",
        "dfs[dfs['Country'] == 'India'].plot(x='Year', y='Population', legend=None, ax=ax, figsize=(20, 5), title='India Population in last 40 year');"
      ],
      "metadata": {
        "colab": {
          "base_uri": "https://localhost:8080/",
          "height": 350
        },
        "id": "bHu_4xquRuHn",
        "outputId": "56c89863-c4b0-4d8d-c7b9-df9594070b80"
      },
      "execution_count": 24,
      "outputs": [
        {
          "output_type": "display_data",
          "data": {
            "text/plain": [
              "<Figure size 1440x360 with 2 Axes>"
            ],
            "image/png": "[encoded data removed]"
          },
          "metadata": {
            "needs_background": "light"
          }
        }
      ]
    },
    {
      "cell_type": "code",
      "source": [
        "dfs['Country'].value_counts()"
      ],
      "metadata": {
        "colab": {
          "base_uri": "https://localhost:8080/"
        },
        "id": "QkOwjQMU8nWm",
        "outputId": "14bde157-fcac-4f93-9110-93ac2f8a5623"
      },
      "execution_count": 29,
      "outputs": [
        {
          "output_type": "execute_result",
          "data": {
            "text/plain": [
              "World                   240\n",
              "Netherlands Antilles    240\n",
              "New Zealand             240\n",
              "Nicaragua               240\n",
              "Niger                   240\n",
              "                       ... \n",
              "Germany, West           240\n",
              "Ghana                   240\n",
              "Gibraltar               240\n",
              "Greece                  240\n",
              "Zimbabwe                240\n",
              "Name: Country, Length: 231, dtype: int64"
            ]
          },
          "metadata": {},
          "execution_count": 29
        }
      ]
    },
    {
      "cell_type": "markdown",
      "source": [
        "# **United Kingdom GDP in last 40 years vs United Kingdom Population in last 40 year**"
      ],
      "metadata": {
        "id": "JTgfaJn3Z2KF"
      }
    },
    {
      "cell_type": "code",
      "source": [
        "# Before Adjustment\n",
        "ax = plt.subplot(1, 2, 1)\n",
        "dfs[dfs['Country'] == 'United Kingdom'].plot(x='Year', y='GDP', legend=None, ax=ax, figsize=(20, 5), title='United Kingdom GDP in last 40 years');\n",
        "\n",
        "ax = plt.subplot(1, 2, 2)\n",
        "dfs[dfs['Country'] == 'United Kingdom'].plot(x='Year', y='Population', legend=None, ax=ax, figsize=(20, 5), title='United Kingdom Population in last 40 year');"
      ],
      "metadata": {
        "colab": {
          "base_uri": "https://localhost:8080/",
          "height": 350
        },
        "id": "5nyOdeWsZlxV",
        "outputId": "3209262d-824e-47e7-e1f4-7f1664dad41c"
      },
      "execution_count": 31,
      "outputs": [
        {
          "output_type": "display_data",
          "data": {
            "text/plain": [
              "<Figure size 1440x360 with 2 Axes>"
            ],
            "image/png": "[encoded data removed]"
          },
          "metadata": {
            "needs_background": "light"
          }
        }
      ]
    },
    {
      "cell_type": "code",
      "source": [
        "plt.figure()\n",
        "annual_co2_ppm = df.groupby(df[\"Year\"]).mean()\n",
        "annual_co2_ppm.loc[1960:2020][\"Population\"].plot(figsize = (10,5), grid=True, legend=True)\n",
        "plt.title(\"Global annual Population\")\n",
        "plt.ylabel(\"Population per million\")\n",
        "plt.show()"
      ],
      "metadata": {
        "colab": {
          "base_uri": "https://localhost:8080/",
          "height": 350
        },
        "id": "7fzMjtHNbdmb",
        "outputId": "bffdd3a2-74ab-4149-ae09-a1919ae5b160"
      },
      "execution_count": 26,
      "outputs": [
        {
          "output_type": "display_data",
          "data": {
            "text/plain": [
              "<Figure size 720x360 with 1 Axes>"
            ],
            "image/png": "[encoded data removed]"
          },
          "metadata": {
            "needs_background": "light"
          }
        }
      ]
    },
    {
      "cell_type": "code",
      "source": [
        "plt.figure()\n",
        "annual_co2_ppm = df.groupby(df[\"Year\"]).mean()\n",
        "annual_co2_ppm.loc[1960:2020][\"CO2_emission\"].plot(figsize = (10,5), grid=True, legend=True)\n",
        "plt.title(\"Global annual CO2 levels in atmosphere\")\n",
        "plt.ylabel(\"CO2 parts per million\")\n",
        "plt.show()"
      ],
      "metadata": {
        "colab": {
          "base_uri": "https://localhost:8080/",
          "height": 350
        },
        "id": "WIG-ffy6cCf3",
        "outputId": "9e4f565e-ed30-42a7-aad9-b902c2375462"
      },
      "execution_count": 27,
      "outputs": [
        {
          "output_type": "display_data",
          "data": {
            "text/plain": [
              "<Figure size 720x360 with 1 Axes>"
            ],
            "image/png": "[encoded data removed]"
          },
          "metadata": {
            "needs_background": "light"
          }
        }
      ]
    },
    {
      "cell_type": "markdown",
      "source": [
        "# **Conclusion:**\n",
        "\n",
        "1. Most CO2 emission caused by renewables and coal,natural gas and petroleum liquids.\n",
        "2. Average CO2_emission increase fastly from 1980 to 2020. Specailly last 10 years CO2 emission rapidly increases.\n",
        "3. Average CO2_emission increase fastly from 1980 to 2020 by population. As population increased CO2 emission rapidly increases.\n",
        "4. Analysis Top 10 countries according to GDP, Population, Energy production, CO2_emission. After seeing matrix china, india, USA are top 3 countries to produce CO2 and Population\n",
        "5. Analysis Last 20 year according to GDP, Population, Energy production, CO2_emission. After seeing matrix last 3 years 2019,2018,2017 are worst year as CO2 and Population increase as compared to pervious years\n",
        "\n"
      ],
      "metadata": {
        "id": "NTTdKDPg-J7g"
      }
    }
  ]
}